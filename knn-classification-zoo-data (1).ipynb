{
 "cells": [
  {
   "cell_type": "markdown",
   "execution_count": null,
   "metadata": {
    "papermill": {
     "duration": 0.022398,
     "end_time": "2020-08-19T22:29:14.592701",
     "exception": false,
     "start_time": "2020-08-19T22:29:14.570303",
     "status": "completed"
    },
    "tags": []
   },
   "source": [
    "# K Nearest Neighbours (KNN)\n",
    "The KNN algorithm works by storing all known classified values and makes predictions for new cases based on similarity measure."
   ]
  },
  {
   "cell_type": "code",
   "execution_count": 1,
   "metadata": {
    "_cell_guid": "b1076dfc-b9ad-4769-8c92-a6c4dae69d19",
    "_kg_hide-input": true,
    "_uuid": "8f2839f25d086af736a60e9eeb907d3b93b6e0e5",
    "execution": {
     "iopub.execute_input": "2020-08-19T22:29:14.635005Z",
     "iopub.status.busy": "2020-08-19T22:29:14.634078Z",
     "iopub.status.idle": "2020-08-19T22:29:15.944172Z",
     "shell.execute_reply": "2020-08-19T22:29:15.943362Z"
    },
    "papermill": {
     "duration": 1.335332,
     "end_time": "2020-08-19T22:29:15.944339",
     "exception": false,
     "start_time": "2020-08-19T22:29:14.609007",
     "status": "completed"
    },
    "tags": []
   },
   "outputs": [
    {
     "name": "stdout",
     "output_type": "stream",
     "text": [
      "/kaggle/input/zoo-animal-classification/zoo.csv\n",
      "/kaggle/input/zoo-animal-classification/class.csv\n"
     ]
    }
   ],
   "source": [
    "# This Python 3 environment comes with many helpful analytics libraries installed\n",
    "# It is defined by the kaggle/python Docker image: https://github.com/kaggle/docker-python\n",
    "# For example, here's several helpful packages to load\n",
    "\n",
    "import numpy as np # linear algebra\n",
    "import pandas as pd # data processing, CSV file I/O (e.g. pd.read_csv)\n",
    "import matplotlib.pyplot as plt\n",
    "import seaborn as sns\n",
    "\n",
    "import warnings\n",
    "warnings.filterwarnings(\"ignore\")\n",
    "\n",
    "# Input data files are available in the read-only \"../input/\" directory\n",
    "# For example, running this (by clicking run or pressing Shift+Enter) will list all files under the input directory\n",
    "\n",
    "import os\n",
    "for dirname, _, filenames in os.walk('/kaggle/input'):\n",
    "    for filename in filenames:\n",
    "        print(os.path.join(dirname, filename))\n",
    "\n",
    "# You can write up to 5GB to the current directory (/kaggle/working/) that gets preserved as output when you create a version using \"Save & Run All\" \n",
    "# You can also write temporary files to /kaggle/temp/, but they won't be saved outside of the current session"
   ]
  },
  {
   "cell_type": "markdown",
   "execution_count": null,
   "metadata": {
    "papermill": {
     "duration": 0.015115,
     "end_time": "2020-08-19T22:29:15.975996",
     "exception": false,
     "start_time": "2020-08-19T22:29:15.960881",
     "status": "completed"
    },
    "tags": []
   },
   "source": [
    "## Importing Libraries for ML model"
   ]
  },
  {
   "cell_type": "markdown",
   "execution_count": null,
   "metadata": {
    "papermill": {
     "duration": 0.01505,
     "end_time": "2020-08-19T22:29:16.006391",
     "exception": false,
     "start_time": "2020-08-19T22:29:15.991341",
     "status": "completed"
    },
    "tags": []
   },
   "source": [
    "Importing subpackages from scikit-learn library"
   ]
  },
  {
   "cell_type": "code",
   "execution_count": 2,
   "metadata": {
    "execution": {
     "iopub.execute_input": "2020-08-19T22:29:16.046481Z",
     "iopub.status.busy": "2020-08-19T22:29:16.045614Z",
     "iopub.status.idle": "2020-08-19T22:29:16.410310Z",
     "shell.execute_reply": "2020-08-19T22:29:16.409395Z"
    },
    "papermill": {
     "duration": 0.387551,
     "end_time": "2020-08-19T22:29:16.410469",
     "exception": false,
     "start_time": "2020-08-19T22:29:16.022918",
     "status": "completed"
    },
    "tags": []
   },
   "outputs": [],
   "source": [
    "# Import additional required libraries\n",
    "from sklearn.model_selection import train_test_split\n",
    "from sklearn.neighbors import KNeighborsClassifier\n",
    "from sklearn import metrics\n",
    "from sklearn.model_selection import *\n",
    "from sklearn.metrics import confusion_matrix,classification_report, accuracy_score\n",
    "from sklearn.model_selection import cross_val_score"
   ]
  },
  {
   "cell_type": "markdown",
   "execution_count": null,
   "metadata": {
    "papermill": {
     "duration": 0.015426,
     "end_time": "2020-08-19T22:29:16.443046",
     "exception": false,
     "start_time": "2020-08-19T22:29:16.427620",
     "status": "completed"
    },
    "tags": []
   },
   "source": [
    "## Importing and Modifying the Data"
   ]
  },
  {
   "cell_type": "markdown",
   "execution_count": null,
   "metadata": {
    "papermill": {
     "duration": 0.014942,
     "end_time": "2020-08-19T22:29:16.474192",
     "exception": false,
     "start_time": "2020-08-19T22:29:16.459250",
     "status": "completed"
    },
    "tags": []
   },
   "source": [
    "Reading the data using `pandas.read_csv()`."
   ]
  },
  {
   "cell_type": "code",
   "execution_count": 3,
   "metadata": {
    "_cell_guid": "79c7e3d0-c299-4dcb-8224-4455121ee9b0",
    "_uuid": "d629ff2d2480ee46fbb7e2d37f6b5fab8052498a",
    "execution": {
     "iopub.execute_input": "2020-08-19T22:29:16.513808Z",
     "iopub.status.busy": "2020-08-19T22:29:16.512937Z",
     "iopub.status.idle": "2020-08-19T22:29:16.556578Z",
     "shell.execute_reply": "2020-08-19T22:29:16.555872Z"
    },
    "papermill": {
     "duration": 0.066814,
     "end_time": "2020-08-19T22:29:16.556723",
     "exception": false,
     "start_time": "2020-08-19T22:29:16.489909",
     "status": "completed"
    },
    "tags": []
   },
   "outputs": [
    {
     "data": {
      "text/html": [
       "<div>\n",
       "<style scoped>\n",
       "    .dataframe tbody tr th:only-of-type {\n",
       "        vertical-align: middle;\n",
       "    }\n",
       "\n",
       "    .dataframe tbody tr th {\n",
       "        vertical-align: top;\n",
       "    }\n",
       "\n",
       "    .dataframe thead th {\n",
       "        text-align: right;\n",
       "    }\n",
       "</style>\n",
       "<table border=\"1\" class=\"dataframe\">\n",
       "  <thead>\n",
       "    <tr style=\"text-align: right;\">\n",
       "      <th></th>\n",
       "      <th>animal_name</th>\n",
       "      <th>hair</th>\n",
       "      <th>feathers</th>\n",
       "      <th>eggs</th>\n",
       "      <th>milk</th>\n",
       "      <th>airborne</th>\n",
       "      <th>aquatic</th>\n",
       "      <th>predator</th>\n",
       "      <th>toothed</th>\n",
       "      <th>backbone</th>\n",
       "      <th>breathes</th>\n",
       "      <th>venomous</th>\n",
       "      <th>fins</th>\n",
       "      <th>legs</th>\n",
       "      <th>tail</th>\n",
       "      <th>domestic</th>\n",
       "      <th>catsize</th>\n",
       "      <th>class_type</th>\n",
       "    </tr>\n",
       "  </thead>\n",
       "  <tbody>\n",
       "    <tr>\n",
       "      <th>0</th>\n",
       "      <td>aardvark</td>\n",
       "      <td>1</td>\n",
       "      <td>0</td>\n",
       "      <td>0</td>\n",
       "      <td>1</td>\n",
       "      <td>0</td>\n",
       "      <td>0</td>\n",
       "      <td>1</td>\n",
       "      <td>1</td>\n",
       "      <td>1</td>\n",
       "      <td>1</td>\n",
       "      <td>0</td>\n",
       "      <td>0</td>\n",
       "      <td>4</td>\n",
       "      <td>0</td>\n",
       "      <td>0</td>\n",
       "      <td>1</td>\n",
       "      <td>1</td>\n",
       "    </tr>\n",
       "    <tr>\n",
       "      <th>1</th>\n",
       "      <td>antelope</td>\n",
       "      <td>1</td>\n",
       "      <td>0</td>\n",
       "      <td>0</td>\n",
       "      <td>1</td>\n",
       "      <td>0</td>\n",
       "      <td>0</td>\n",
       "      <td>0</td>\n",
       "      <td>1</td>\n",
       "      <td>1</td>\n",
       "      <td>1</td>\n",
       "      <td>0</td>\n",
       "      <td>0</td>\n",
       "      <td>4</td>\n",
       "      <td>1</td>\n",
       "      <td>0</td>\n",
       "      <td>1</td>\n",
       "      <td>1</td>\n",
       "    </tr>\n",
       "    <tr>\n",
       "      <th>2</th>\n",
       "      <td>bass</td>\n",
       "      <td>0</td>\n",
       "      <td>0</td>\n",
       "      <td>1</td>\n",
       "      <td>0</td>\n",
       "      <td>0</td>\n",
       "      <td>1</td>\n",
       "      <td>1</td>\n",
       "      <td>1</td>\n",
       "      <td>1</td>\n",
       "      <td>0</td>\n",
       "      <td>0</td>\n",
       "      <td>1</td>\n",
       "      <td>0</td>\n",
       "      <td>1</td>\n",
       "      <td>0</td>\n",
       "      <td>0</td>\n",
       "      <td>4</td>\n",
       "    </tr>\n",
       "    <tr>\n",
       "      <th>3</th>\n",
       "      <td>bear</td>\n",
       "      <td>1</td>\n",
       "      <td>0</td>\n",
       "      <td>0</td>\n",
       "      <td>1</td>\n",
       "      <td>0</td>\n",
       "      <td>0</td>\n",
       "      <td>1</td>\n",
       "      <td>1</td>\n",
       "      <td>1</td>\n",
       "      <td>1</td>\n",
       "      <td>0</td>\n",
       "      <td>0</td>\n",
       "      <td>4</td>\n",
       "      <td>0</td>\n",
       "      <td>0</td>\n",
       "      <td>1</td>\n",
       "      <td>1</td>\n",
       "    </tr>\n",
       "    <tr>\n",
       "      <th>4</th>\n",
       "      <td>boar</td>\n",
       "      <td>1</td>\n",
       "      <td>0</td>\n",
       "      <td>0</td>\n",
       "      <td>1</td>\n",
       "      <td>0</td>\n",
       "      <td>0</td>\n",
       "      <td>1</td>\n",
       "      <td>1</td>\n",
       "      <td>1</td>\n",
       "      <td>1</td>\n",
       "      <td>0</td>\n",
       "      <td>0</td>\n",
       "      <td>4</td>\n",
       "      <td>1</td>\n",
       "      <td>0</td>\n",
       "      <td>1</td>\n",
       "      <td>1</td>\n",
       "    </tr>\n",
       "  </tbody>\n",
       "</table>\n",
       "</div>"
      ],
      "text/plain": [
       "  animal_name  hair  feathers  eggs  milk  airborne  aquatic  predator  \\\n",
       "0    aardvark     1         0     0     1         0        0         1   \n",
       "1    antelope     1         0     0     1         0        0         0   \n",
       "2        bass     0         0     1     0         0        1         1   \n",
       "3        bear     1         0     0     1         0        0         1   \n",
       "4        boar     1         0     0     1         0        0         1   \n",
       "\n",
       "   toothed  backbone  breathes  venomous  fins  legs  tail  domestic  catsize  \\\n",
       "0        1         1         1         0     0     4     0         0        1   \n",
       "1        1         1         1         0     0     4     1         0        1   \n",
       "2        1         1         0         0     1     0     1         0        0   \n",
       "3        1         1         1         0     0     4     0         0        1   \n",
       "4        1         1         1         0     0     4     1         0        1   \n",
       "\n",
       "   class_type  \n",
       "0           1  \n",
       "1           1  \n",
       "2           4  \n",
       "3           1  \n",
       "4           1  "
      ]
     },
     "execution_count": 3,
     "metadata": {},
     "output_type": "execute_result"
    }
   ],
   "source": [
    "# Importing dataset\n",
    "zoo_df = pd.read_csv('../input/zoo-animal-classification/zoo.csv')\n",
    "class_df = pd.read_csv('../input/zoo-animal-classification/class.csv')\n",
    "zoo_df.head()"
   ]
  },
  {
   "cell_type": "code",
   "execution_count": 4,
   "metadata": {
    "execution": {
     "iopub.execute_input": "2020-08-19T22:29:16.602325Z",
     "iopub.status.busy": "2020-08-19T22:29:16.601253Z",
     "iopub.status.idle": "2020-08-19T22:29:16.607457Z",
     "shell.execute_reply": "2020-08-19T22:29:16.606804Z"
    },
    "papermill": {
     "duration": 0.035325,
     "end_time": "2020-08-19T22:29:16.607628",
     "exception": false,
     "start_time": "2020-08-19T22:29:16.572303",
     "status": "completed"
    },
    "tags": []
   },
   "outputs": [
    {
     "data": {
      "text/html": [
       "<div>\n",
       "<style scoped>\n",
       "    .dataframe tbody tr th:only-of-type {\n",
       "        vertical-align: middle;\n",
       "    }\n",
       "\n",
       "    .dataframe tbody tr th {\n",
       "        vertical-align: top;\n",
       "    }\n",
       "\n",
       "    .dataframe thead th {\n",
       "        text-align: right;\n",
       "    }\n",
       "</style>\n",
       "<table border=\"1\" class=\"dataframe\">\n",
       "  <thead>\n",
       "    <tr style=\"text-align: right;\">\n",
       "      <th></th>\n",
       "      <th>Class_Number</th>\n",
       "      <th>Number_Of_Animal_Species_In_Class</th>\n",
       "      <th>Class_Type</th>\n",
       "      <th>Animal_Names</th>\n",
       "    </tr>\n",
       "  </thead>\n",
       "  <tbody>\n",
       "    <tr>\n",
       "      <th>0</th>\n",
       "      <td>1</td>\n",
       "      <td>41</td>\n",
       "      <td>Mammal</td>\n",
       "      <td>aardvark, antelope, bear, boar, buffalo, calf,...</td>\n",
       "    </tr>\n",
       "    <tr>\n",
       "      <th>1</th>\n",
       "      <td>2</td>\n",
       "      <td>20</td>\n",
       "      <td>Bird</td>\n",
       "      <td>chicken, crow, dove, duck, flamingo, gull, haw...</td>\n",
       "    </tr>\n",
       "    <tr>\n",
       "      <th>2</th>\n",
       "      <td>3</td>\n",
       "      <td>5</td>\n",
       "      <td>Reptile</td>\n",
       "      <td>pitviper, seasnake, slowworm, tortoise, tuatara</td>\n",
       "    </tr>\n",
       "    <tr>\n",
       "      <th>3</th>\n",
       "      <td>4</td>\n",
       "      <td>13</td>\n",
       "      <td>Fish</td>\n",
       "      <td>bass, carp, catfish, chub, dogfish, haddock, h...</td>\n",
       "    </tr>\n",
       "    <tr>\n",
       "      <th>4</th>\n",
       "      <td>5</td>\n",
       "      <td>4</td>\n",
       "      <td>Amphibian</td>\n",
       "      <td>frog, frog, newt, toad</td>\n",
       "    </tr>\n",
       "  </tbody>\n",
       "</table>\n",
       "</div>"
      ],
      "text/plain": [
       "   Class_Number  Number_Of_Animal_Species_In_Class Class_Type  \\\n",
       "0             1                                 41     Mammal   \n",
       "1             2                                 20       Bird   \n",
       "2             3                                  5    Reptile   \n",
       "3             4                                 13       Fish   \n",
       "4             5                                  4  Amphibian   \n",
       "\n",
       "                                        Animal_Names  \n",
       "0  aardvark, antelope, bear, boar, buffalo, calf,...  \n",
       "1  chicken, crow, dove, duck, flamingo, gull, haw...  \n",
       "2    pitviper, seasnake, slowworm, tortoise, tuatara  \n",
       "3  bass, carp, catfish, chub, dogfish, haddock, h...  \n",
       "4                             frog, frog, newt, toad  "
      ]
     },
     "execution_count": 4,
     "metadata": {},
     "output_type": "execute_result"
    }
   ],
   "source": [
    "class_df.head()"
   ]
  },
  {
   "cell_type": "markdown",
   "execution_count": null,
   "metadata": {
    "papermill": {
     "duration": 0.015312,
     "end_time": "2020-08-19T22:29:16.638775",
     "exception": false,
     "start_time": "2020-08-19T22:29:16.623463",
     "status": "completed"
    },
    "tags": []
   },
   "source": [
    "Since we want to use the information in both of these datasets, we can merge them along a common column, the `class_type` and `Class_Number` columns."
   ]
  },
  {
   "cell_type": "code",
   "execution_count": 5,
   "metadata": {
    "execution": {
     "iopub.execute_input": "2020-08-19T22:29:16.697814Z",
     "iopub.status.busy": "2020-08-19T22:29:16.682755Z",
     "iopub.status.idle": "2020-08-19T22:29:16.724765Z",
     "shell.execute_reply": "2020-08-19T22:29:16.724152Z"
    },
    "papermill": {
     "duration": 0.070564,
     "end_time": "2020-08-19T22:29:16.724900",
     "exception": false,
     "start_time": "2020-08-19T22:29:16.654336",
     "status": "completed"
    },
    "tags": []
   },
   "outputs": [
    {
     "data": {
      "text/html": [
       "<div>\n",
       "<style scoped>\n",
       "    .dataframe tbody tr th:only-of-type {\n",
       "        vertical-align: middle;\n",
       "    }\n",
       "\n",
       "    .dataframe tbody tr th {\n",
       "        vertical-align: top;\n",
       "    }\n",
       "\n",
       "    .dataframe thead th {\n",
       "        text-align: right;\n",
       "    }\n",
       "</style>\n",
       "<table border=\"1\" class=\"dataframe\">\n",
       "  <thead>\n",
       "    <tr style=\"text-align: right;\">\n",
       "      <th></th>\n",
       "      <th>animal_name</th>\n",
       "      <th>hair</th>\n",
       "      <th>feathers</th>\n",
       "      <th>eggs</th>\n",
       "      <th>milk</th>\n",
       "      <th>airborne</th>\n",
       "      <th>aquatic</th>\n",
       "      <th>predator</th>\n",
       "      <th>toothed</th>\n",
       "      <th>backbone</th>\n",
       "      <th>...</th>\n",
       "      <th>fins</th>\n",
       "      <th>legs</th>\n",
       "      <th>tail</th>\n",
       "      <th>domestic</th>\n",
       "      <th>catsize</th>\n",
       "      <th>class_type</th>\n",
       "      <th>Class_Number</th>\n",
       "      <th>Number_Of_Animal_Species_In_Class</th>\n",
       "      <th>Class_Type</th>\n",
       "      <th>Animal_Names</th>\n",
       "    </tr>\n",
       "  </thead>\n",
       "  <tbody>\n",
       "    <tr>\n",
       "      <th>0</th>\n",
       "      <td>aardvark</td>\n",
       "      <td>1</td>\n",
       "      <td>0</td>\n",
       "      <td>0</td>\n",
       "      <td>1</td>\n",
       "      <td>0</td>\n",
       "      <td>0</td>\n",
       "      <td>1</td>\n",
       "      <td>1</td>\n",
       "      <td>1</td>\n",
       "      <td>...</td>\n",
       "      <td>0</td>\n",
       "      <td>4</td>\n",
       "      <td>0</td>\n",
       "      <td>0</td>\n",
       "      <td>1</td>\n",
       "      <td>1</td>\n",
       "      <td>1</td>\n",
       "      <td>41</td>\n",
       "      <td>Mammal</td>\n",
       "      <td>aardvark, antelope, bear, boar, buffalo, calf,...</td>\n",
       "    </tr>\n",
       "    <tr>\n",
       "      <th>1</th>\n",
       "      <td>antelope</td>\n",
       "      <td>1</td>\n",
       "      <td>0</td>\n",
       "      <td>0</td>\n",
       "      <td>1</td>\n",
       "      <td>0</td>\n",
       "      <td>0</td>\n",
       "      <td>0</td>\n",
       "      <td>1</td>\n",
       "      <td>1</td>\n",
       "      <td>...</td>\n",
       "      <td>0</td>\n",
       "      <td>4</td>\n",
       "      <td>1</td>\n",
       "      <td>0</td>\n",
       "      <td>1</td>\n",
       "      <td>1</td>\n",
       "      <td>1</td>\n",
       "      <td>41</td>\n",
       "      <td>Mammal</td>\n",
       "      <td>aardvark, antelope, bear, boar, buffalo, calf,...</td>\n",
       "    </tr>\n",
       "    <tr>\n",
       "      <th>2</th>\n",
       "      <td>bass</td>\n",
       "      <td>0</td>\n",
       "      <td>0</td>\n",
       "      <td>1</td>\n",
       "      <td>0</td>\n",
       "      <td>0</td>\n",
       "      <td>1</td>\n",
       "      <td>1</td>\n",
       "      <td>1</td>\n",
       "      <td>1</td>\n",
       "      <td>...</td>\n",
       "      <td>1</td>\n",
       "      <td>0</td>\n",
       "      <td>1</td>\n",
       "      <td>0</td>\n",
       "      <td>0</td>\n",
       "      <td>4</td>\n",
       "      <td>4</td>\n",
       "      <td>13</td>\n",
       "      <td>Fish</td>\n",
       "      <td>bass, carp, catfish, chub, dogfish, haddock, h...</td>\n",
       "    </tr>\n",
       "    <tr>\n",
       "      <th>3</th>\n",
       "      <td>bear</td>\n",
       "      <td>1</td>\n",
       "      <td>0</td>\n",
       "      <td>0</td>\n",
       "      <td>1</td>\n",
       "      <td>0</td>\n",
       "      <td>0</td>\n",
       "      <td>1</td>\n",
       "      <td>1</td>\n",
       "      <td>1</td>\n",
       "      <td>...</td>\n",
       "      <td>0</td>\n",
       "      <td>4</td>\n",
       "      <td>0</td>\n",
       "      <td>0</td>\n",
       "      <td>1</td>\n",
       "      <td>1</td>\n",
       "      <td>1</td>\n",
       "      <td>41</td>\n",
       "      <td>Mammal</td>\n",
       "      <td>aardvark, antelope, bear, boar, buffalo, calf,...</td>\n",
       "    </tr>\n",
       "    <tr>\n",
       "      <th>4</th>\n",
       "      <td>boar</td>\n",
       "      <td>1</td>\n",
       "      <td>0</td>\n",
       "      <td>0</td>\n",
       "      <td>1</td>\n",
       "      <td>0</td>\n",
       "      <td>0</td>\n",
       "      <td>1</td>\n",
       "      <td>1</td>\n",
       "      <td>1</td>\n",
       "      <td>...</td>\n",
       "      <td>0</td>\n",
       "      <td>4</td>\n",
       "      <td>1</td>\n",
       "      <td>0</td>\n",
       "      <td>1</td>\n",
       "      <td>1</td>\n",
       "      <td>1</td>\n",
       "      <td>41</td>\n",
       "      <td>Mammal</td>\n",
       "      <td>aardvark, antelope, bear, boar, buffalo, calf,...</td>\n",
       "    </tr>\n",
       "  </tbody>\n",
       "</table>\n",
       "<p>5 rows × 22 columns</p>\n",
       "</div>"
      ],
      "text/plain": [
       "  animal_name  hair  feathers  eggs  milk  airborne  aquatic  predator  \\\n",
       "0    aardvark     1         0     0     1         0        0         1   \n",
       "1    antelope     1         0     0     1         0        0         0   \n",
       "2        bass     0         0     1     0         0        1         1   \n",
       "3        bear     1         0     0     1         0        0         1   \n",
       "4        boar     1         0     0     1         0        0         1   \n",
       "\n",
       "   toothed  backbone  ...  fins  legs  tail  domestic  catsize  class_type  \\\n",
       "0        1         1  ...     0     4     0         0        1           1   \n",
       "1        1         1  ...     0     4     1         0        1           1   \n",
       "2        1         1  ...     1     0     1         0        0           4   \n",
       "3        1         1  ...     0     4     0         0        1           1   \n",
       "4        1         1  ...     0     4     1         0        1           1   \n",
       "\n",
       "   Class_Number  Number_Of_Animal_Species_In_Class  Class_Type  \\\n",
       "0             1                                 41      Mammal   \n",
       "1             1                                 41      Mammal   \n",
       "2             4                                 13        Fish   \n",
       "3             1                                 41      Mammal   \n",
       "4             1                                 41      Mammal   \n",
       "\n",
       "                                        Animal_Names  \n",
       "0  aardvark, antelope, bear, boar, buffalo, calf,...  \n",
       "1  aardvark, antelope, bear, boar, buffalo, calf,...  \n",
       "2  bass, carp, catfish, chub, dogfish, haddock, h...  \n",
       "3  aardvark, antelope, bear, boar, buffalo, calf,...  \n",
       "4  aardvark, antelope, bear, boar, buffalo, calf,...  \n",
       "\n",
       "[5 rows x 22 columns]"
      ]
     },
     "execution_count": 5,
     "metadata": {},
     "output_type": "execute_result"
    }
   ],
   "source": [
    "# Joining datasets along the class number column present in both datasets\n",
    "animal_df = zoo_df.merge(class_df,how='left',left_on='class_type',right_on='Class_Number')\n",
    "animal_df.head()"
   ]
  },
  {
   "cell_type": "markdown",
   "execution_count": null,
   "metadata": {
    "papermill": {
     "duration": 0.015914,
     "end_time": "2020-08-19T22:29:16.757166",
     "exception": false,
     "start_time": "2020-08-19T22:29:16.741252",
     "status": "completed"
    },
    "tags": []
   },
   "source": [
    "Here we can remove the column `class_type` which was originally from `zoo_df` as it is now a duplicate of `Class_Number`, and also because it shares a name with `Class_Type` originally from `class_df`.\n",
    "\n",
    "We can also remove the columns `Animal_Names` and `Number_Of_Animal_Species_In_Class` as they does not provide us with any classification insights."
   ]
  },
  {
   "cell_type": "code",
   "execution_count": 6,
   "metadata": {
    "execution": {
     "iopub.execute_input": "2020-08-19T22:29:16.815215Z",
     "iopub.status.busy": "2020-08-19T22:29:16.814394Z",
     "iopub.status.idle": "2020-08-19T22:29:16.820981Z",
     "shell.execute_reply": "2020-08-19T22:29:16.820288Z"
    },
    "papermill": {
     "duration": 0.047716,
     "end_time": "2020-08-19T22:29:16.821139",
     "exception": false,
     "start_time": "2020-08-19T22:29:16.773423",
     "status": "completed"
    },
    "tags": []
   },
   "outputs": [
    {
     "data": {
      "text/html": [
       "<div>\n",
       "<style scoped>\n",
       "    .dataframe tbody tr th:only-of-type {\n",
       "        vertical-align: middle;\n",
       "    }\n",
       "\n",
       "    .dataframe tbody tr th {\n",
       "        vertical-align: top;\n",
       "    }\n",
       "\n",
       "    .dataframe thead th {\n",
       "        text-align: right;\n",
       "    }\n",
       "</style>\n",
       "<table border=\"1\" class=\"dataframe\">\n",
       "  <thead>\n",
       "    <tr style=\"text-align: right;\">\n",
       "      <th></th>\n",
       "      <th>animal_name</th>\n",
       "      <th>hair</th>\n",
       "      <th>feathers</th>\n",
       "      <th>eggs</th>\n",
       "      <th>milk</th>\n",
       "      <th>airborne</th>\n",
       "      <th>aquatic</th>\n",
       "      <th>predator</th>\n",
       "      <th>toothed</th>\n",
       "      <th>backbone</th>\n",
       "      <th>breathes</th>\n",
       "      <th>venomous</th>\n",
       "      <th>fins</th>\n",
       "      <th>legs</th>\n",
       "      <th>tail</th>\n",
       "      <th>domestic</th>\n",
       "      <th>catsize</th>\n",
       "      <th>Class_Number</th>\n",
       "      <th>Class_Type</th>\n",
       "    </tr>\n",
       "  </thead>\n",
       "  <tbody>\n",
       "    <tr>\n",
       "      <th>0</th>\n",
       "      <td>aardvark</td>\n",
       "      <td>1</td>\n",
       "      <td>0</td>\n",
       "      <td>0</td>\n",
       "      <td>1</td>\n",
       "      <td>0</td>\n",
       "      <td>0</td>\n",
       "      <td>1</td>\n",
       "      <td>1</td>\n",
       "      <td>1</td>\n",
       "      <td>1</td>\n",
       "      <td>0</td>\n",
       "      <td>0</td>\n",
       "      <td>4</td>\n",
       "      <td>0</td>\n",
       "      <td>0</td>\n",
       "      <td>1</td>\n",
       "      <td>1</td>\n",
       "      <td>Mammal</td>\n",
       "    </tr>\n",
       "    <tr>\n",
       "      <th>1</th>\n",
       "      <td>antelope</td>\n",
       "      <td>1</td>\n",
       "      <td>0</td>\n",
       "      <td>0</td>\n",
       "      <td>1</td>\n",
       "      <td>0</td>\n",
       "      <td>0</td>\n",
       "      <td>0</td>\n",
       "      <td>1</td>\n",
       "      <td>1</td>\n",
       "      <td>1</td>\n",
       "      <td>0</td>\n",
       "      <td>0</td>\n",
       "      <td>4</td>\n",
       "      <td>1</td>\n",
       "      <td>0</td>\n",
       "      <td>1</td>\n",
       "      <td>1</td>\n",
       "      <td>Mammal</td>\n",
       "    </tr>\n",
       "    <tr>\n",
       "      <th>2</th>\n",
       "      <td>bass</td>\n",
       "      <td>0</td>\n",
       "      <td>0</td>\n",
       "      <td>1</td>\n",
       "      <td>0</td>\n",
       "      <td>0</td>\n",
       "      <td>1</td>\n",
       "      <td>1</td>\n",
       "      <td>1</td>\n",
       "      <td>1</td>\n",
       "      <td>0</td>\n",
       "      <td>0</td>\n",
       "      <td>1</td>\n",
       "      <td>0</td>\n",
       "      <td>1</td>\n",
       "      <td>0</td>\n",
       "      <td>0</td>\n",
       "      <td>4</td>\n",
       "      <td>Fish</td>\n",
       "    </tr>\n",
       "    <tr>\n",
       "      <th>3</th>\n",
       "      <td>bear</td>\n",
       "      <td>1</td>\n",
       "      <td>0</td>\n",
       "      <td>0</td>\n",
       "      <td>1</td>\n",
       "      <td>0</td>\n",
       "      <td>0</td>\n",
       "      <td>1</td>\n",
       "      <td>1</td>\n",
       "      <td>1</td>\n",
       "      <td>1</td>\n",
       "      <td>0</td>\n",
       "      <td>0</td>\n",
       "      <td>4</td>\n",
       "      <td>0</td>\n",
       "      <td>0</td>\n",
       "      <td>1</td>\n",
       "      <td>1</td>\n",
       "      <td>Mammal</td>\n",
       "    </tr>\n",
       "    <tr>\n",
       "      <th>4</th>\n",
       "      <td>boar</td>\n",
       "      <td>1</td>\n",
       "      <td>0</td>\n",
       "      <td>0</td>\n",
       "      <td>1</td>\n",
       "      <td>0</td>\n",
       "      <td>0</td>\n",
       "      <td>1</td>\n",
       "      <td>1</td>\n",
       "      <td>1</td>\n",
       "      <td>1</td>\n",
       "      <td>0</td>\n",
       "      <td>0</td>\n",
       "      <td>4</td>\n",
       "      <td>1</td>\n",
       "      <td>0</td>\n",
       "      <td>1</td>\n",
       "      <td>1</td>\n",
       "      <td>Mammal</td>\n",
       "    </tr>\n",
       "  </tbody>\n",
       "</table>\n",
       "</div>"
      ],
      "text/plain": [
       "  animal_name  hair  feathers  eggs  milk  airborne  aquatic  predator  \\\n",
       "0    aardvark     1         0     0     1         0        0         1   \n",
       "1    antelope     1         0     0     1         0        0         0   \n",
       "2        bass     0         0     1     0         0        1         1   \n",
       "3        bear     1         0     0     1         0        0         1   \n",
       "4        boar     1         0     0     1         0        0         1   \n",
       "\n",
       "   toothed  backbone  breathes  venomous  fins  legs  tail  domestic  catsize  \\\n",
       "0        1         1         1         0     0     4     0         0        1   \n",
       "1        1         1         1         0     0     4     1         0        1   \n",
       "2        1         1         0         0     1     0     1         0        0   \n",
       "3        1         1         1         0     0     4     0         0        1   \n",
       "4        1         1         1         0     0     4     1         0        1   \n",
       "\n",
       "   Class_Number Class_Type  \n",
       "0             1     Mammal  \n",
       "1             1     Mammal  \n",
       "2             4       Fish  \n",
       "3             1     Mammal  \n",
       "4             1     Mammal  "
      ]
     },
     "execution_count": 6,
     "metadata": {},
     "output_type": "execute_result"
    }
   ],
   "source": [
    "# Dropping unwanted columns\n",
    "## I am renaming the dataframe as zoo_df because it is shorter to use\n",
    "zoo_df = animal_df.drop(['class_type','Animal_Names', 'Number_Of_Animal_Species_In_Class'], axis=1)\n",
    "zoo_df.head()"
   ]
  },
  {
   "cell_type": "markdown",
   "execution_count": null,
   "metadata": {
    "papermill": {
     "duration": 0.016323,
     "end_time": "2020-08-19T22:29:16.854950",
     "exception": false,
     "start_time": "2020-08-19T22:29:16.838627",
     "status": "completed"
    },
    "tags": []
   },
   "source": [
    "Before doing anything else with the data let's see if there are any null values (missing data) in any of the columns."
   ]
  },
  {
   "cell_type": "code",
   "execution_count": 7,
   "metadata": {
    "execution": {
     "iopub.execute_input": "2020-08-19T22:29:16.899279Z",
     "iopub.status.busy": "2020-08-19T22:29:16.898283Z",
     "iopub.status.idle": "2020-08-19T22:29:16.903041Z",
     "shell.execute_reply": "2020-08-19T22:29:16.902381Z"
    },
    "papermill": {
     "duration": 0.031322,
     "end_time": "2020-08-19T22:29:16.903183",
     "exception": false,
     "start_time": "2020-08-19T22:29:16.871861",
     "status": "completed"
    },
    "tags": []
   },
   "outputs": [
    {
     "data": {
      "text/plain": [
       "animal_name     False\n",
       "hair            False\n",
       "feathers        False\n",
       "eggs            False\n",
       "milk            False\n",
       "airborne        False\n",
       "aquatic         False\n",
       "predator        False\n",
       "toothed         False\n",
       "backbone        False\n",
       "breathes        False\n",
       "venomous        False\n",
       "fins            False\n",
       "legs            False\n",
       "tail            False\n",
       "domestic        False\n",
       "catsize         False\n",
       "Class_Number    False\n",
       "Class_Type      False\n",
       "dtype: bool"
      ]
     },
     "execution_count": 7,
     "metadata": {},
     "output_type": "execute_result"
    }
   ],
   "source": [
    "zoo_df.isnull().any()"
   ]
  },
  {
   "cell_type": "markdown",
   "execution_count": null,
   "metadata": {
    "papermill": {
     "duration": 0.017623,
     "end_time": "2020-08-19T22:29:16.938080",
     "exception": false,
     "start_time": "2020-08-19T22:29:16.920457",
     "status": "completed"
    },
    "tags": []
   },
   "source": [
    "We have no missing data so all the entries are valid for use.\n",
    "\n",
    "Now we can check the column names to get a better understanding of what features we will be basing our classification on."
   ]
  },
  {
   "cell_type": "markdown",
   "execution_count": null,
   "metadata": {
    "papermill": {
     "duration": 0.01715,
     "end_time": "2020-08-19T22:29:16.973245",
     "exception": false,
     "start_time": "2020-08-19T22:29:16.956095",
     "status": "completed"
    },
    "tags": []
   },
   "source": [
    "## Initial Evaluation"
   ]
  },
  {
   "cell_type": "markdown",
   "execution_count": null,
   "metadata": {
    "papermill": {
     "duration": 0.017677,
     "end_time": "2020-08-19T22:29:17.008792",
     "exception": false,
     "start_time": "2020-08-19T22:29:16.991115",
     "status": "completed"
    },
    "tags": []
   },
   "source": [
    "Review data prior to implementing model using basic stats and visualizations."
   ]
  },
  {
   "cell_type": "code",
   "execution_count": 8,
   "metadata": {
    "execution": {
     "iopub.execute_input": "2020-08-19T22:29:17.062376Z",
     "iopub.status.busy": "2020-08-19T22:29:17.061380Z",
     "iopub.status.idle": "2020-08-19T22:29:17.065854Z",
     "shell.execute_reply": "2020-08-19T22:29:17.066400Z"
    },
    "papermill": {
     "duration": 0.039055,
     "end_time": "2020-08-19T22:29:17.066623",
     "exception": false,
     "start_time": "2020-08-19T22:29:17.027568",
     "status": "completed"
    },
    "tags": []
   },
   "outputs": [
    {
     "name": "stdout",
     "output_type": "stream",
     "text": [
      "<class 'pandas.core.frame.DataFrame'>\n",
      "Int64Index: 101 entries, 0 to 100\n",
      "Data columns (total 19 columns):\n",
      " #   Column        Non-Null Count  Dtype \n",
      "---  ------        --------------  ----- \n",
      " 0   animal_name   101 non-null    object\n",
      " 1   hair          101 non-null    int64 \n",
      " 2   feathers      101 non-null    int64 \n",
      " 3   eggs          101 non-null    int64 \n",
      " 4   milk          101 non-null    int64 \n",
      " 5   airborne      101 non-null    int64 \n",
      " 6   aquatic       101 non-null    int64 \n",
      " 7   predator      101 non-null    int64 \n",
      " 8   toothed       101 non-null    int64 \n",
      " 9   backbone      101 non-null    int64 \n",
      " 10  breathes      101 non-null    int64 \n",
      " 11  venomous      101 non-null    int64 \n",
      " 12  fins          101 non-null    int64 \n",
      " 13  legs          101 non-null    int64 \n",
      " 14  tail          101 non-null    int64 \n",
      " 15  domestic      101 non-null    int64 \n",
      " 16  catsize       101 non-null    int64 \n",
      " 17  Class_Number  101 non-null    int64 \n",
      " 18  Class_Type    101 non-null    object\n",
      "dtypes: int64(17), object(2)\n",
      "memory usage: 15.8+ KB\n"
     ]
    }
   ],
   "source": [
    "# Get names of columns in zoo_df\n",
    "zoo_df.info()"
   ]
  },
  {
   "cell_type": "code",
   "execution_count": 9,
   "metadata": {
    "execution": {
     "iopub.execute_input": "2020-08-19T22:29:17.114612Z",
     "iopub.status.busy": "2020-08-19T22:29:17.113429Z",
     "iopub.status.idle": "2020-08-19T22:29:17.183187Z",
     "shell.execute_reply": "2020-08-19T22:29:17.182399Z"
    },
    "papermill": {
     "duration": 0.099099,
     "end_time": "2020-08-19T22:29:17.183341",
     "exception": false,
     "start_time": "2020-08-19T22:29:17.084242",
     "status": "completed"
    },
    "tags": []
   },
   "outputs": [
    {
     "data": {
      "text/html": [
       "<div>\n",
       "<style scoped>\n",
       "    .dataframe tbody tr th:only-of-type {\n",
       "        vertical-align: middle;\n",
       "    }\n",
       "\n",
       "    .dataframe tbody tr th {\n",
       "        vertical-align: top;\n",
       "    }\n",
       "\n",
       "    .dataframe thead th {\n",
       "        text-align: right;\n",
       "    }\n",
       "</style>\n",
       "<table border=\"1\" class=\"dataframe\">\n",
       "  <thead>\n",
       "    <tr style=\"text-align: right;\">\n",
       "      <th></th>\n",
       "      <th>hair</th>\n",
       "      <th>feathers</th>\n",
       "      <th>eggs</th>\n",
       "      <th>milk</th>\n",
       "      <th>airborne</th>\n",
       "      <th>aquatic</th>\n",
       "      <th>predator</th>\n",
       "      <th>toothed</th>\n",
       "      <th>backbone</th>\n",
       "      <th>breathes</th>\n",
       "      <th>venomous</th>\n",
       "      <th>fins</th>\n",
       "      <th>legs</th>\n",
       "      <th>tail</th>\n",
       "      <th>domestic</th>\n",
       "      <th>catsize</th>\n",
       "      <th>Class_Number</th>\n",
       "    </tr>\n",
       "  </thead>\n",
       "  <tbody>\n",
       "    <tr>\n",
       "      <th>count</th>\n",
       "      <td>101.000000</td>\n",
       "      <td>101.000000</td>\n",
       "      <td>101.000000</td>\n",
       "      <td>101.000000</td>\n",
       "      <td>101.000000</td>\n",
       "      <td>101.000000</td>\n",
       "      <td>101.000000</td>\n",
       "      <td>101.000000</td>\n",
       "      <td>101.000000</td>\n",
       "      <td>101.000000</td>\n",
       "      <td>101.000000</td>\n",
       "      <td>101.000000</td>\n",
       "      <td>101.000000</td>\n",
       "      <td>101.000000</td>\n",
       "      <td>101.000000</td>\n",
       "      <td>101.000000</td>\n",
       "      <td>101.000000</td>\n",
       "    </tr>\n",
       "    <tr>\n",
       "      <th>mean</th>\n",
       "      <td>0.425743</td>\n",
       "      <td>0.198020</td>\n",
       "      <td>0.584158</td>\n",
       "      <td>0.405941</td>\n",
       "      <td>0.237624</td>\n",
       "      <td>0.356436</td>\n",
       "      <td>0.554455</td>\n",
       "      <td>0.603960</td>\n",
       "      <td>0.821782</td>\n",
       "      <td>0.792079</td>\n",
       "      <td>0.079208</td>\n",
       "      <td>0.168317</td>\n",
       "      <td>2.841584</td>\n",
       "      <td>0.742574</td>\n",
       "      <td>0.128713</td>\n",
       "      <td>0.435644</td>\n",
       "      <td>2.831683</td>\n",
       "    </tr>\n",
       "    <tr>\n",
       "      <th>std</th>\n",
       "      <td>0.496921</td>\n",
       "      <td>0.400495</td>\n",
       "      <td>0.495325</td>\n",
       "      <td>0.493522</td>\n",
       "      <td>0.427750</td>\n",
       "      <td>0.481335</td>\n",
       "      <td>0.499505</td>\n",
       "      <td>0.491512</td>\n",
       "      <td>0.384605</td>\n",
       "      <td>0.407844</td>\n",
       "      <td>0.271410</td>\n",
       "      <td>0.376013</td>\n",
       "      <td>2.033385</td>\n",
       "      <td>0.439397</td>\n",
       "      <td>0.336552</td>\n",
       "      <td>0.498314</td>\n",
       "      <td>2.102709</td>\n",
       "    </tr>\n",
       "    <tr>\n",
       "      <th>min</th>\n",
       "      <td>0.000000</td>\n",
       "      <td>0.000000</td>\n",
       "      <td>0.000000</td>\n",
       "      <td>0.000000</td>\n",
       "      <td>0.000000</td>\n",
       "      <td>0.000000</td>\n",
       "      <td>0.000000</td>\n",
       "      <td>0.000000</td>\n",
       "      <td>0.000000</td>\n",
       "      <td>0.000000</td>\n",
       "      <td>0.000000</td>\n",
       "      <td>0.000000</td>\n",
       "      <td>0.000000</td>\n",
       "      <td>0.000000</td>\n",
       "      <td>0.000000</td>\n",
       "      <td>0.000000</td>\n",
       "      <td>1.000000</td>\n",
       "    </tr>\n",
       "    <tr>\n",
       "      <th>25%</th>\n",
       "      <td>0.000000</td>\n",
       "      <td>0.000000</td>\n",
       "      <td>0.000000</td>\n",
       "      <td>0.000000</td>\n",
       "      <td>0.000000</td>\n",
       "      <td>0.000000</td>\n",
       "      <td>0.000000</td>\n",
       "      <td>0.000000</td>\n",
       "      <td>1.000000</td>\n",
       "      <td>1.000000</td>\n",
       "      <td>0.000000</td>\n",
       "      <td>0.000000</td>\n",
       "      <td>2.000000</td>\n",
       "      <td>0.000000</td>\n",
       "      <td>0.000000</td>\n",
       "      <td>0.000000</td>\n",
       "      <td>1.000000</td>\n",
       "    </tr>\n",
       "    <tr>\n",
       "      <th>50%</th>\n",
       "      <td>0.000000</td>\n",
       "      <td>0.000000</td>\n",
       "      <td>1.000000</td>\n",
       "      <td>0.000000</td>\n",
       "      <td>0.000000</td>\n",
       "      <td>0.000000</td>\n",
       "      <td>1.000000</td>\n",
       "      <td>1.000000</td>\n",
       "      <td>1.000000</td>\n",
       "      <td>1.000000</td>\n",
       "      <td>0.000000</td>\n",
       "      <td>0.000000</td>\n",
       "      <td>4.000000</td>\n",
       "      <td>1.000000</td>\n",
       "      <td>0.000000</td>\n",
       "      <td>0.000000</td>\n",
       "      <td>2.000000</td>\n",
       "    </tr>\n",
       "    <tr>\n",
       "      <th>75%</th>\n",
       "      <td>1.000000</td>\n",
       "      <td>0.000000</td>\n",
       "      <td>1.000000</td>\n",
       "      <td>1.000000</td>\n",
       "      <td>0.000000</td>\n",
       "      <td>1.000000</td>\n",
       "      <td>1.000000</td>\n",
       "      <td>1.000000</td>\n",
       "      <td>1.000000</td>\n",
       "      <td>1.000000</td>\n",
       "      <td>0.000000</td>\n",
       "      <td>0.000000</td>\n",
       "      <td>4.000000</td>\n",
       "      <td>1.000000</td>\n",
       "      <td>0.000000</td>\n",
       "      <td>1.000000</td>\n",
       "      <td>4.000000</td>\n",
       "    </tr>\n",
       "    <tr>\n",
       "      <th>max</th>\n",
       "      <td>1.000000</td>\n",
       "      <td>1.000000</td>\n",
       "      <td>1.000000</td>\n",
       "      <td>1.000000</td>\n",
       "      <td>1.000000</td>\n",
       "      <td>1.000000</td>\n",
       "      <td>1.000000</td>\n",
       "      <td>1.000000</td>\n",
       "      <td>1.000000</td>\n",
       "      <td>1.000000</td>\n",
       "      <td>1.000000</td>\n",
       "      <td>1.000000</td>\n",
       "      <td>8.000000</td>\n",
       "      <td>1.000000</td>\n",
       "      <td>1.000000</td>\n",
       "      <td>1.000000</td>\n",
       "      <td>7.000000</td>\n",
       "    </tr>\n",
       "  </tbody>\n",
       "</table>\n",
       "</div>"
      ],
      "text/plain": [
       "             hair    feathers        eggs        milk    airborne     aquatic  \\\n",
       "count  101.000000  101.000000  101.000000  101.000000  101.000000  101.000000   \n",
       "mean     0.425743    0.198020    0.584158    0.405941    0.237624    0.356436   \n",
       "std      0.496921    0.400495    0.495325    0.493522    0.427750    0.481335   \n",
       "min      0.000000    0.000000    0.000000    0.000000    0.000000    0.000000   \n",
       "25%      0.000000    0.000000    0.000000    0.000000    0.000000    0.000000   \n",
       "50%      0.000000    0.000000    1.000000    0.000000    0.000000    0.000000   \n",
       "75%      1.000000    0.000000    1.000000    1.000000    0.000000    1.000000   \n",
       "max      1.000000    1.000000    1.000000    1.000000    1.000000    1.000000   \n",
       "\n",
       "         predator     toothed    backbone    breathes    venomous        fins  \\\n",
       "count  101.000000  101.000000  101.000000  101.000000  101.000000  101.000000   \n",
       "mean     0.554455    0.603960    0.821782    0.792079    0.079208    0.168317   \n",
       "std      0.499505    0.491512    0.384605    0.407844    0.271410    0.376013   \n",
       "min      0.000000    0.000000    0.000000    0.000000    0.000000    0.000000   \n",
       "25%      0.000000    0.000000    1.000000    1.000000    0.000000    0.000000   \n",
       "50%      1.000000    1.000000    1.000000    1.000000    0.000000    0.000000   \n",
       "75%      1.000000    1.000000    1.000000    1.000000    0.000000    0.000000   \n",
       "max      1.000000    1.000000    1.000000    1.000000    1.000000    1.000000   \n",
       "\n",
       "             legs        tail    domestic     catsize  Class_Number  \n",
       "count  101.000000  101.000000  101.000000  101.000000    101.000000  \n",
       "mean     2.841584    0.742574    0.128713    0.435644      2.831683  \n",
       "std      2.033385    0.439397    0.336552    0.498314      2.102709  \n",
       "min      0.000000    0.000000    0.000000    0.000000      1.000000  \n",
       "25%      2.000000    0.000000    0.000000    0.000000      1.000000  \n",
       "50%      4.000000    1.000000    0.000000    0.000000      2.000000  \n",
       "75%      4.000000    1.000000    0.000000    1.000000      4.000000  \n",
       "max      8.000000    1.000000    1.000000    1.000000      7.000000  "
      ]
     },
     "execution_count": 9,
     "metadata": {},
     "output_type": "execute_result"
    }
   ],
   "source": [
    "zoo_df.describe()"
   ]
  },
  {
   "cell_type": "markdown",
   "execution_count": null,
   "metadata": {
    "papermill": {
     "duration": 0.018198,
     "end_time": "2020-08-19T22:29:17.221108",
     "exception": false,
     "start_time": "2020-08-19T22:29:17.202910",
     "status": "completed"
    },
    "tags": []
   },
   "source": [
    "From this we can see that all of the animal characteristics or feature values are given as binary values (1- present / 0-absent) except for the legs where it is given as a count of legs.\n",
    "\n",
    "We need to keep this in mind going forward while using the data."
   ]
  },
  {
   "cell_type": "markdown",
   "execution_count": null,
   "metadata": {
    "papermill": {
     "duration": 0.017813,
     "end_time": "2020-08-19T22:29:17.256997",
     "exception": false,
     "start_time": "2020-08-19T22:29:17.239184",
     "status": "completed"
    },
    "tags": []
   },
   "source": [
    "Next let's get the distribution of animal data across the types of classes."
   ]
  },
  {
   "cell_type": "code",
   "execution_count": 10,
   "metadata": {
    "execution": {
     "iopub.execute_input": "2020-08-19T22:29:17.299808Z",
     "iopub.status.busy": "2020-08-19T22:29:17.298989Z",
     "iopub.status.idle": "2020-08-19T22:29:17.303446Z",
     "shell.execute_reply": "2020-08-19T22:29:17.302697Z"
    },
    "papermill": {
     "duration": 0.028521,
     "end_time": "2020-08-19T22:29:17.303622",
     "exception": false,
     "start_time": "2020-08-19T22:29:17.275101",
     "status": "completed"
    },
    "tags": []
   },
   "outputs": [],
   "source": [
    "# Set default plot grid\n",
    "sns.set_style('whitegrid')"
   ]
  },
  {
   "cell_type": "code",
   "execution_count": 11,
   "metadata": {
    "execution": {
     "iopub.execute_input": "2020-08-19T22:29:17.358761Z",
     "iopub.status.busy": "2020-08-19T22:29:17.350243Z",
     "iopub.status.idle": "2020-08-19T22:29:17.698378Z",
     "shell.execute_reply": "2020-08-19T22:29:17.697564Z"
    },
    "papermill": {
     "duration": 0.376896,
     "end_time": "2020-08-19T22:29:17.698557",
     "exception": false,
     "start_time": "2020-08-19T22:29:17.321661",
     "status": "completed"
    },
    "tags": []
   },
   "outputs": [
    {
     "data": {
      "text/plain": [
       "Text(0.5, 1.0, 'Histogram of Classes')"
      ]
     },
     "execution_count": 11,
     "metadata": {},
     "output_type": "execute_result"
    },
    {
     "data": {
      "image/png": "[encoded data removed]",
      "text/plain": [
       "<Figure size 504x504 with 1 Axes>"
      ]
     },
     "metadata": {},
     "output_type": "display_data"
    }
   ],
   "source": [
    "# Plot histogram of classes\n",
    "plt.rcParams['figure.figsize'] = (7,7)\n",
    "sns.countplot(zoo_df['Class_Type'], palette='YlGnBu')\n",
    "ax = plt.gca()\n",
    "ax.set_title(\"Histogram of Classes\")"
   ]
  },
  {
   "cell_type": "markdown",
   "execution_count": null,
   "metadata": {
    "papermill": {
     "duration": 0.017367,
     "end_time": "2020-08-19T22:29:17.734126",
     "exception": false,
     "start_time": "2020-08-19T22:29:17.716759",
     "status": "completed"
    },
    "tags": []
   },
   "source": [
    "We can also see if there are any trends or correlations in the data using a heatmap.\n",
    "\n",
    "As mentioned previously, we will want to treat the `legs` columns differently as it does not present data the same way as the remaining columns. So, we will create a column `has_legs` that checks if an animal has legs (1) or not (0)."
   ]
  },
  {
   "cell_type": "code",
   "execution_count": 12,
   "metadata": {
    "execution": {
     "iopub.execute_input": "2020-08-19T22:29:17.799610Z",
     "iopub.status.busy": "2020-08-19T22:29:17.798423Z",
     "iopub.status.idle": "2020-08-19T22:29:17.804687Z",
     "shell.execute_reply": "2020-08-19T22:29:17.803850Z"
    },
    "papermill": {
     "duration": 0.052981,
     "end_time": "2020-08-19T22:29:17.804842",
     "exception": false,
     "start_time": "2020-08-19T22:29:17.751861",
     "status": "completed"
    },
    "tags": []
   },
   "outputs": [
    {
     "data": {
      "text/html": [
       "<div>\n",
       "<style scoped>\n",
       "    .dataframe tbody tr th:only-of-type {\n",
       "        vertical-align: middle;\n",
       "    }\n",
       "\n",
       "    .dataframe tbody tr th {\n",
       "        vertical-align: top;\n",
       "    }\n",
       "\n",
       "    .dataframe thead th {\n",
       "        text-align: right;\n",
       "    }\n",
       "</style>\n",
       "<table border=\"1\" class=\"dataframe\">\n",
       "  <thead>\n",
       "    <tr style=\"text-align: right;\">\n",
       "      <th></th>\n",
       "      <th>animal_name</th>\n",
       "      <th>hair</th>\n",
       "      <th>feathers</th>\n",
       "      <th>eggs</th>\n",
       "      <th>milk</th>\n",
       "      <th>airborne</th>\n",
       "      <th>aquatic</th>\n",
       "      <th>predator</th>\n",
       "      <th>toothed</th>\n",
       "      <th>backbone</th>\n",
       "      <th>breathes</th>\n",
       "      <th>venomous</th>\n",
       "      <th>fins</th>\n",
       "      <th>legs</th>\n",
       "      <th>has_legs</th>\n",
       "      <th>tail</th>\n",
       "      <th>domestic</th>\n",
       "      <th>catsize</th>\n",
       "      <th>Class_Number</th>\n",
       "      <th>Class_Type</th>\n",
       "    </tr>\n",
       "  </thead>\n",
       "  <tbody>\n",
       "    <tr>\n",
       "      <th>0</th>\n",
       "      <td>aardvark</td>\n",
       "      <td>1</td>\n",
       "      <td>0</td>\n",
       "      <td>0</td>\n",
       "      <td>1</td>\n",
       "      <td>0</td>\n",
       "      <td>0</td>\n",
       "      <td>1</td>\n",
       "      <td>1</td>\n",
       "      <td>1</td>\n",
       "      <td>1</td>\n",
       "      <td>0</td>\n",
       "      <td>0</td>\n",
       "      <td>4</td>\n",
       "      <td>1</td>\n",
       "      <td>0</td>\n",
       "      <td>0</td>\n",
       "      <td>1</td>\n",
       "      <td>1</td>\n",
       "      <td>Mammal</td>\n",
       "    </tr>\n",
       "    <tr>\n",
       "      <th>1</th>\n",
       "      <td>antelope</td>\n",
       "      <td>1</td>\n",
       "      <td>0</td>\n",
       "      <td>0</td>\n",
       "      <td>1</td>\n",
       "      <td>0</td>\n",
       "      <td>0</td>\n",
       "      <td>0</td>\n",
       "      <td>1</td>\n",
       "      <td>1</td>\n",
       "      <td>1</td>\n",
       "      <td>0</td>\n",
       "      <td>0</td>\n",
       "      <td>4</td>\n",
       "      <td>1</td>\n",
       "      <td>1</td>\n",
       "      <td>0</td>\n",
       "      <td>1</td>\n",
       "      <td>1</td>\n",
       "      <td>Mammal</td>\n",
       "    </tr>\n",
       "    <tr>\n",
       "      <th>2</th>\n",
       "      <td>bass</td>\n",
       "      <td>0</td>\n",
       "      <td>0</td>\n",
       "      <td>1</td>\n",
       "      <td>0</td>\n",
       "      <td>0</td>\n",
       "      <td>1</td>\n",
       "      <td>1</td>\n",
       "      <td>1</td>\n",
       "      <td>1</td>\n",
       "      <td>0</td>\n",
       "      <td>0</td>\n",
       "      <td>1</td>\n",
       "      <td>0</td>\n",
       "      <td>0</td>\n",
       "      <td>1</td>\n",
       "      <td>0</td>\n",
       "      <td>0</td>\n",
       "      <td>4</td>\n",
       "      <td>Fish</td>\n",
       "    </tr>\n",
       "    <tr>\n",
       "      <th>3</th>\n",
       "      <td>bear</td>\n",
       "      <td>1</td>\n",
       "      <td>0</td>\n",
       "      <td>0</td>\n",
       "      <td>1</td>\n",
       "      <td>0</td>\n",
       "      <td>0</td>\n",
       "      <td>1</td>\n",
       "      <td>1</td>\n",
       "      <td>1</td>\n",
       "      <td>1</td>\n",
       "      <td>0</td>\n",
       "      <td>0</td>\n",
       "      <td>4</td>\n",
       "      <td>1</td>\n",
       "      <td>0</td>\n",
       "      <td>0</td>\n",
       "      <td>1</td>\n",
       "      <td>1</td>\n",
       "      <td>Mammal</td>\n",
       "    </tr>\n",
       "    <tr>\n",
       "      <th>4</th>\n",
       "      <td>boar</td>\n",
       "      <td>1</td>\n",
       "      <td>0</td>\n",
       "      <td>0</td>\n",
       "      <td>1</td>\n",
       "      <td>0</td>\n",
       "      <td>0</td>\n",
       "      <td>1</td>\n",
       "      <td>1</td>\n",
       "      <td>1</td>\n",
       "      <td>1</td>\n",
       "      <td>0</td>\n",
       "      <td>0</td>\n",
       "      <td>4</td>\n",
       "      <td>1</td>\n",
       "      <td>1</td>\n",
       "      <td>0</td>\n",
       "      <td>1</td>\n",
       "      <td>1</td>\n",
       "      <td>Mammal</td>\n",
       "    </tr>\n",
       "  </tbody>\n",
       "</table>\n",
       "</div>"
      ],
      "text/plain": [
       "  animal_name  hair  feathers  eggs  milk  airborne  aquatic  predator  \\\n",
       "0    aardvark     1         0     0     1         0        0         1   \n",
       "1    antelope     1         0     0     1         0        0         0   \n",
       "2        bass     0         0     1     0         0        1         1   \n",
       "3        bear     1         0     0     1         0        0         1   \n",
       "4        boar     1         0     0     1         0        0         1   \n",
       "\n",
       "   toothed  backbone  breathes  venomous  fins  legs  has_legs  tail  \\\n",
       "0        1         1         1         0     0     4         1     0   \n",
       "1        1         1         1         0     0     4         1     1   \n",
       "2        1         1         0         0     1     0         0     1   \n",
       "3        1         1         1         0     0     4         1     0   \n",
       "4        1         1         1         0     0     4         1     1   \n",
       "\n",
       "   domestic  catsize  Class_Number Class_Type  \n",
       "0         0        1             1     Mammal  \n",
       "1         0        1             1     Mammal  \n",
       "2         0        0             4       Fish  \n",
       "3         0        1             1     Mammal  \n",
       "4         0        1             1     Mammal  "
      ]
     },
     "execution_count": 12,
     "metadata": {},
     "output_type": "execute_result"
    }
   ],
   "source": [
    "zoo_df['has_legs'] = np.where(zoo_df['legs']>0,1,0)\n",
    "zoo_df = zoo_df[['animal_name','hair','feathers','eggs','milk', 'airborne', 'aquatic', 'predator', 'toothed', 'backbone', 'breathes','venomous','fins','legs','has_legs','tail','domestic','catsize','Class_Number','Class_Type']]\n",
    "zoo_df.head()"
   ]
  },
  {
   "cell_type": "code",
   "execution_count": 13,
   "metadata": {
    "execution": {
     "iopub.execute_input": "2020-08-19T22:29:17.859802Z",
     "iopub.status.busy": "2020-08-19T22:29:17.858823Z",
     "iopub.status.idle": "2020-08-19T22:29:18.723014Z",
     "shell.execute_reply": "2020-08-19T22:29:18.722344Z"
    },
    "papermill": {
     "duration": 0.898132,
     "end_time": "2020-08-19T22:29:18.723172",
     "exception": false,
     "start_time": "2020-08-19T22:29:17.825040",
     "status": "completed"
    },
    "tags": []
   },
   "outputs": [
    {
     "data": {
      "text/plain": [
       "Text(0.5, 1.0, 'Features for the Animals')"
      ]
     },
     "execution_count": 13,
     "metadata": {},
     "output_type": "execute_result"
    },
    {
     "data": {
      "image/png": "[encoded data removed]",
      "text/plain": [
       "<Figure size 1152x720 with 2 Axes>"
      ]
     },
     "metadata": {},
     "output_type": "display_data"
    }
   ],
   "source": [
    "zoo_df_temp = zoo_df.drop(['has_legs','Class_Number'], axis=1)\n",
    "zoo_df_temp = zoo_df_temp.groupby(by='animal_name').mean()\n",
    "plt.rcParams['figure.figsize'] = (16,10) \n",
    "sns.heatmap(zoo_df_temp, cmap=\"inferno\")\n",
    "ax = plt.gca()\n",
    "ax.set_title(\"Features for the Animals\")"
   ]
  },
  {
   "cell_type": "code",
   "execution_count": 14,
   "metadata": {
    "execution": {
     "iopub.execute_input": "2020-08-19T22:29:18.925013Z",
     "iopub.status.busy": "2020-08-19T22:29:18.783852Z",
     "iopub.status.idle": "2020-08-19T22:29:19.717046Z",
     "shell.execute_reply": "2020-08-19T22:29:19.716227Z"
    },
    "papermill": {
     "duration": 0.974517,
     "end_time": "2020-08-19T22:29:19.717191",
     "exception": false,
     "start_time": "2020-08-19T22:29:18.742674",
     "status": "completed"
    },
    "tags": []
   },
   "outputs": [
    {
     "data": {
      "text/plain": [
       "Text(0.5, 1.0, 'HeatMap of Features for the Classes')"
      ]
     },
     "execution_count": 14,
     "metadata": {},
     "output_type": "execute_result"
    },
    {
     "data": {
      "image/png": "[encoded data removed]",
      "text/plain": [
       "<Figure size 1152x720 with 2 Axes>"
      ]
     },
     "metadata": {},
     "output_type": "display_data"
    }
   ],
   "source": [
    "zoo_df_temp = zoo_df.drop(['has_legs','Class_Number'], axis=1)\n",
    "zoo_df_temp = zoo_df_temp.groupby(by='Class_Type').mean()\n",
    "plt.rcParams['figure.figsize'] = (16,10) \n",
    "sns.heatmap(zoo_df_temp, annot=True, cmap=\"inferno\")\n",
    "ax = plt.gca()\n",
    "ax.set_title(\"HeatMap of Features for the Classes\")"
   ]
  },
  {
   "cell_type": "markdown",
   "execution_count": null,
   "metadata": {
    "papermill": {
     "duration": 0.020976,
     "end_time": "2020-08-19T22:29:19.759132",
     "exception": false,
     "start_time": "2020-08-19T22:29:19.738156",
     "status": "completed"
    },
    "tags": []
   },
   "source": [
    "Here we can see how `legs` having a larger range of values [0-8] than the rest of the features skews the data.\n",
    "\n",
    "Now, let's try that again but using `has_legs` instead."
   ]
  },
  {
   "cell_type": "code",
   "execution_count": 15,
   "metadata": {
    "execution": {
     "iopub.execute_input": "2020-08-19T22:29:19.813001Z",
     "iopub.status.busy": "2020-08-19T22:29:19.811731Z",
     "iopub.status.idle": "2020-08-19T22:29:20.599155Z",
     "shell.execute_reply": "2020-08-19T22:29:20.598358Z"
    },
    "papermill": {
     "duration": 0.819628,
     "end_time": "2020-08-19T22:29:20.599300",
     "exception": false,
     "start_time": "2020-08-19T22:29:19.779672",
     "status": "completed"
    },
    "tags": []
   },
   "outputs": [
    {
     "data": {
      "text/plain": [
       "Text(0.5, 1.0, 'Features for the Animals')"
      ]
     },
     "execution_count": 15,
     "metadata": {},
     "output_type": "execute_result"
    },
    {
     "data": {
      "image/png": "[encoded data removed]",
      "text/plain": [
       "<Figure size 1152x720 with 2 Axes>"
      ]
     },
     "metadata": {},
     "output_type": "display_data"
    }
   ],
   "source": [
    "zoo_df_temp = zoo_df.drop(['legs','Class_Number'], axis=1)\n",
    "zoo_df_temp = zoo_df_temp.groupby(by='animal_name').mean()\n",
    "plt.rcParams['figure.figsize'] = (16,10) \n",
    "sns.heatmap(zoo_df_temp, cmap=\"inferno\")\n",
    "ax = plt.gca()\n",
    "ax.set_title(\"Features for the Animals\")"
   ]
  },
  {
   "cell_type": "code",
   "execution_count": 16,
   "metadata": {
    "execution": {
     "iopub.execute_input": "2020-08-19T22:29:20.670809Z",
     "iopub.status.busy": "2020-08-19T22:29:20.663299Z",
     "iopub.status.idle": "2020-08-19T22:29:21.455140Z",
     "shell.execute_reply": "2020-08-19T22:29:21.454267Z"
    },
    "papermill": {
     "duration": 0.834532,
     "end_time": "2020-08-19T22:29:21.455305",
     "exception": false,
     "start_time": "2020-08-19T22:29:20.620773",
     "status": "completed"
    },
    "tags": []
   },
   "outputs": [
    {
     "data": {
      "text/plain": [
       "Text(0.5, 1.0, 'HeatMap of Features for the Classes')"
      ]
     },
     "execution_count": 16,
     "metadata": {},
     "output_type": "execute_result"
    },
    {
     "data": {
      "image/png": "[encoded data removed]",
      "text/plain": [
       "<Figure size 1152x720 with 2 Axes>"
      ]
     },
     "metadata": {},
     "output_type": "display_data"
    }
   ],
   "source": [
    "zoo_df_temp = zoo_df.drop(['legs','Class_Number'], axis=1)\n",
    "zoo_df_temp = zoo_df_temp.groupby(by='Class_Type').mean()\n",
    "plt.rcParams['figure.figsize'] = (16,10) \n",
    "sns.heatmap(zoo_df_temp, annot=True, cmap=\"inferno\")\n",
    "ax = plt.gca()\n",
    "ax.set_title(\"HeatMap of Features for the Classes\")"
   ]
  },
  {
   "cell_type": "markdown",
   "execution_count": null,
   "metadata": {
    "papermill": {
     "duration": 0.021717,
     "end_time": "2020-08-19T22:29:21.499692",
     "exception": false,
     "start_time": "2020-08-19T22:29:21.477975",
     "status": "completed"
    },
    "tags": []
   },
   "source": [
    "This gives us a much clearer idea of what features play a more or less important role in identifying certain animals."
   ]
  },
  {
   "cell_type": "markdown",
   "execution_count": null,
   "metadata": {
    "papermill": {
     "duration": 0.02154,
     "end_time": "2020-08-19T22:29:21.543287",
     "exception": false,
     "start_time": "2020-08-19T22:29:21.521747",
     "status": "completed"
    },
    "tags": []
   },
   "source": [
    "## Prepraring Data for Models\n",
    "We will be removing column `animal_name` as it does not help us in classification. We will also remove `has_legs` since it is not part of the original data, and is not as insightful as it's parent feature `legs`.\n",
    "\n",
    "After that, we can assign the remaining relevant columns to the X and y sets."
   ]
  },
  {
   "cell_type": "code",
   "execution_count": 17,
   "metadata": {
    "execution": {
     "iopub.execute_input": "2020-08-19T22:29:21.609701Z",
     "iopub.status.busy": "2020-08-19T22:29:21.608916Z",
     "iopub.status.idle": "2020-08-19T22:29:21.614802Z",
     "shell.execute_reply": "2020-08-19T22:29:21.614014Z"
    },
    "papermill": {
     "duration": 0.049695,
     "end_time": "2020-08-19T22:29:21.614948",
     "exception": false,
     "start_time": "2020-08-19T22:29:21.565253",
     "status": "completed"
    },
    "tags": []
   },
   "outputs": [
    {
     "data": {
      "text/html": [
       "<div>\n",
       "<style scoped>\n",
       "    .dataframe tbody tr th:only-of-type {\n",
       "        vertical-align: middle;\n",
       "    }\n",
       "\n",
       "    .dataframe tbody tr th {\n",
       "        vertical-align: top;\n",
       "    }\n",
       "\n",
       "    .dataframe thead th {\n",
       "        text-align: right;\n",
       "    }\n",
       "</style>\n",
       "<table border=\"1\" class=\"dataframe\">\n",
       "  <thead>\n",
       "    <tr style=\"text-align: right;\">\n",
       "      <th></th>\n",
       "      <th>animal_name</th>\n",
       "      <th>hair</th>\n",
       "      <th>feathers</th>\n",
       "      <th>eggs</th>\n",
       "      <th>milk</th>\n",
       "      <th>airborne</th>\n",
       "      <th>aquatic</th>\n",
       "      <th>predator</th>\n",
       "      <th>toothed</th>\n",
       "      <th>backbone</th>\n",
       "      <th>breathes</th>\n",
       "      <th>venomous</th>\n",
       "      <th>fins</th>\n",
       "      <th>legs</th>\n",
       "      <th>has_legs</th>\n",
       "      <th>tail</th>\n",
       "      <th>domestic</th>\n",
       "      <th>catsize</th>\n",
       "      <th>Class_Number</th>\n",
       "      <th>Class_Type</th>\n",
       "    </tr>\n",
       "  </thead>\n",
       "  <tbody>\n",
       "    <tr>\n",
       "      <th>0</th>\n",
       "      <td>aardvark</td>\n",
       "      <td>1</td>\n",
       "      <td>0</td>\n",
       "      <td>0</td>\n",
       "      <td>1</td>\n",
       "      <td>0</td>\n",
       "      <td>0</td>\n",
       "      <td>1</td>\n",
       "      <td>1</td>\n",
       "      <td>1</td>\n",
       "      <td>1</td>\n",
       "      <td>0</td>\n",
       "      <td>0</td>\n",
       "      <td>4</td>\n",
       "      <td>1</td>\n",
       "      <td>0</td>\n",
       "      <td>0</td>\n",
       "      <td>1</td>\n",
       "      <td>1</td>\n",
       "      <td>Mammal</td>\n",
       "    </tr>\n",
       "    <tr>\n",
       "      <th>1</th>\n",
       "      <td>antelope</td>\n",
       "      <td>1</td>\n",
       "      <td>0</td>\n",
       "      <td>0</td>\n",
       "      <td>1</td>\n",
       "      <td>0</td>\n",
       "      <td>0</td>\n",
       "      <td>0</td>\n",
       "      <td>1</td>\n",
       "      <td>1</td>\n",
       "      <td>1</td>\n",
       "      <td>0</td>\n",
       "      <td>0</td>\n",
       "      <td>4</td>\n",
       "      <td>1</td>\n",
       "      <td>1</td>\n",
       "      <td>0</td>\n",
       "      <td>1</td>\n",
       "      <td>1</td>\n",
       "      <td>Mammal</td>\n",
       "    </tr>\n",
       "    <tr>\n",
       "      <th>2</th>\n",
       "      <td>bass</td>\n",
       "      <td>0</td>\n",
       "      <td>0</td>\n",
       "      <td>1</td>\n",
       "      <td>0</td>\n",
       "      <td>0</td>\n",
       "      <td>1</td>\n",
       "      <td>1</td>\n",
       "      <td>1</td>\n",
       "      <td>1</td>\n",
       "      <td>0</td>\n",
       "      <td>0</td>\n",
       "      <td>1</td>\n",
       "      <td>0</td>\n",
       "      <td>0</td>\n",
       "      <td>1</td>\n",
       "      <td>0</td>\n",
       "      <td>0</td>\n",
       "      <td>4</td>\n",
       "      <td>Fish</td>\n",
       "    </tr>\n",
       "    <tr>\n",
       "      <th>3</th>\n",
       "      <td>bear</td>\n",
       "      <td>1</td>\n",
       "      <td>0</td>\n",
       "      <td>0</td>\n",
       "      <td>1</td>\n",
       "      <td>0</td>\n",
       "      <td>0</td>\n",
       "      <td>1</td>\n",
       "      <td>1</td>\n",
       "      <td>1</td>\n",
       "      <td>1</td>\n",
       "      <td>0</td>\n",
       "      <td>0</td>\n",
       "      <td>4</td>\n",
       "      <td>1</td>\n",
       "      <td>0</td>\n",
       "      <td>0</td>\n",
       "      <td>1</td>\n",
       "      <td>1</td>\n",
       "      <td>Mammal</td>\n",
       "    </tr>\n",
       "    <tr>\n",
       "      <th>4</th>\n",
       "      <td>boar</td>\n",
       "      <td>1</td>\n",
       "      <td>0</td>\n",
       "      <td>0</td>\n",
       "      <td>1</td>\n",
       "      <td>0</td>\n",
       "      <td>0</td>\n",
       "      <td>1</td>\n",
       "      <td>1</td>\n",
       "      <td>1</td>\n",
       "      <td>1</td>\n",
       "      <td>0</td>\n",
       "      <td>0</td>\n",
       "      <td>4</td>\n",
       "      <td>1</td>\n",
       "      <td>1</td>\n",
       "      <td>0</td>\n",
       "      <td>1</td>\n",
       "      <td>1</td>\n",
       "      <td>Mammal</td>\n",
       "    </tr>\n",
       "  </tbody>\n",
       "</table>\n",
       "</div>"
      ],
      "text/plain": [
       "  animal_name  hair  feathers  eggs  milk  airborne  aquatic  predator  \\\n",
       "0    aardvark     1         0     0     1         0        0         1   \n",
       "1    antelope     1         0     0     1         0        0         0   \n",
       "2        bass     0         0     1     0         0        1         1   \n",
       "3        bear     1         0     0     1         0        0         1   \n",
       "4        boar     1         0     0     1         0        0         1   \n",
       "\n",
       "   toothed  backbone  breathes  venomous  fins  legs  has_legs  tail  \\\n",
       "0        1         1         1         0     0     4         1     0   \n",
       "1        1         1         1         0     0     4         1     1   \n",
       "2        1         1         0         0     1     0         0     1   \n",
       "3        1         1         1         0     0     4         1     0   \n",
       "4        1         1         1         0     0     4         1     1   \n",
       "\n",
       "   domestic  catsize  Class_Number Class_Type  \n",
       "0         0        1             1     Mammal  \n",
       "1         0        1             1     Mammal  \n",
       "2         0        0             4       Fish  \n",
       "3         0        1             1     Mammal  \n",
       "4         0        1             1     Mammal  "
      ]
     },
     "execution_count": 17,
     "metadata": {},
     "output_type": "execute_result"
    }
   ],
   "source": [
    "zoo_df.head()"
   ]
  },
  {
   "cell_type": "code",
   "execution_count": 18,
   "metadata": {
    "execution": {
     "iopub.execute_input": "2020-08-19T22:29:21.669298Z",
     "iopub.status.busy": "2020-08-19T22:29:21.668549Z",
     "iopub.status.idle": "2020-08-19T22:29:21.672043Z",
     "shell.execute_reply": "2020-08-19T22:29:21.671277Z"
    },
    "papermill": {
     "duration": 0.034907,
     "end_time": "2020-08-19T22:29:21.672186",
     "exception": false,
     "start_time": "2020-08-19T22:29:21.637279",
     "status": "completed"
    },
    "tags": []
   },
   "outputs": [],
   "source": [
    "# Select columns to add to X and y sets\n",
    "features = list(zoo_df.columns.values)\n",
    "features.remove('has_legs')\n",
    "features.remove('Class_Type')\n",
    "features.remove('Class_Number')\n",
    "features.remove('animal_name')\n",
    "X = zoo_df[features]\n",
    "y = zoo_df['Class_Number']"
   ]
  },
  {
   "cell_type": "markdown",
   "execution_count": null,
   "metadata": {
    "papermill": {
     "duration": 0.022491,
     "end_time": "2020-08-19T22:29:21.717385",
     "exception": false,
     "start_time": "2020-08-19T22:29:21.694894",
     "status": "completed"
    },
    "tags": []
   },
   "source": [
    "Split X, y data into training set and testing set."
   ]
  },
  {
   "cell_type": "code",
   "execution_count": 19,
   "metadata": {
    "execution": {
     "iopub.execute_input": "2020-08-19T22:29:21.772976Z",
     "iopub.status.busy": "2020-08-19T22:29:21.772205Z",
     "iopub.status.idle": "2020-08-19T22:29:21.776145Z",
     "shell.execute_reply": "2020-08-19T22:29:21.775392Z"
    },
    "papermill": {
     "duration": 0.036016,
     "end_time": "2020-08-19T22:29:21.776319",
     "exception": false,
     "start_time": "2020-08-19T22:29:21.740303",
     "status": "completed"
    },
    "tags": []
   },
   "outputs": [],
   "source": [
    "# Split X and y into train and test\n",
    "X_train, X_test, y_train, y_test = train_test_split(X,y,random_state = 0)"
   ]
  },
  {
   "cell_type": "markdown",
   "execution_count": null,
   "metadata": {
    "papermill": {
     "duration": 0.022364,
     "end_time": "2020-08-19T22:29:21.821312",
     "exception": false,
     "start_time": "2020-08-19T22:29:21.798948",
     "status": "completed"
    },
    "tags": []
   },
   "source": [
    "## Train model\n",
    "Create and train knn classifier to use on zoo data"
   ]
  },
  {
   "cell_type": "code",
   "execution_count": 20,
   "metadata": {
    "execution": {
     "iopub.execute_input": "2020-08-19T22:29:21.880390Z",
     "iopub.status.busy": "2020-08-19T22:29:21.879311Z",
     "iopub.status.idle": "2020-08-19T22:29:21.887952Z",
     "shell.execute_reply": "2020-08-19T22:29:21.887175Z"
    },
    "papermill": {
     "duration": 0.043199,
     "end_time": "2020-08-19T22:29:21.888102",
     "exception": false,
     "start_time": "2020-08-19T22:29:21.844903",
     "status": "completed"
    },
    "tags": []
   },
   "outputs": [
    {
     "data": {
      "text/plain": [
       "KNeighborsClassifier()"
      ]
     },
     "execution_count": 20,
     "metadata": {},
     "output_type": "execute_result"
    }
   ],
   "source": [
    "# Fit k-nearest neighbors classifier with training sets for n = 5\n",
    "knn = KNeighborsClassifier(n_neighbors = 5)\n",
    "knn.fit(X_train, y_train)"
   ]
  },
  {
   "cell_type": "markdown",
   "execution_count": null,
   "metadata": {
    "papermill": {
     "duration": 0.080234,
     "end_time": "2020-08-19T22:29:21.990722",
     "exception": false,
     "start_time": "2020-08-19T22:29:21.910488",
     "status": "completed"
    },
    "tags": []
   },
   "source": [
    "## Test and Evaluate model"
   ]
  },
  {
   "cell_type": "markdown",
   "execution_count": null,
   "metadata": {
    "papermill": {
     "duration": 0.022244,
     "end_time": "2020-08-19T22:29:22.036459",
     "exception": false,
     "start_time": "2020-08-19T22:29:22.014215",
     "status": "completed"
    },
    "tags": []
   },
   "source": [
    "Run predicitions on the test data"
   ]
  },
  {
   "cell_type": "code",
   "execution_count": 21,
   "metadata": {
    "execution": {
     "iopub.execute_input": "2020-08-19T22:29:22.091432Z",
     "iopub.status.busy": "2020-08-19T22:29:22.090270Z",
     "iopub.status.idle": "2020-08-19T22:29:22.097231Z",
     "shell.execute_reply": "2020-08-19T22:29:22.096603Z"
    },
    "papermill": {
     "duration": 0.03855,
     "end_time": "2020-08-19T22:29:22.097369",
     "exception": false,
     "start_time": "2020-08-19T22:29:22.058819",
     "status": "completed"
    },
    "tags": []
   },
   "outputs": [],
   "source": [
    "# Run prediction\n",
    "y_pred = knn.predict(X_test)"
   ]
  },
  {
   "cell_type": "markdown",
   "execution_count": null,
   "metadata": {
    "papermill": {
     "duration": 0.022309,
     "end_time": "2020-08-19T22:29:22.141875",
     "exception": false,
     "start_time": "2020-08-19T22:29:22.119566",
     "status": "completed"
    },
    "tags": []
   },
   "source": [
    "Get the confusion matrix and classification report for model."
   ]
  },
  {
   "cell_type": "code",
   "execution_count": 22,
   "metadata": {
    "execution": {
     "iopub.execute_input": "2020-08-19T22:29:22.197089Z",
     "iopub.status.busy": "2020-08-19T22:29:22.196186Z",
     "iopub.status.idle": "2020-08-19T22:29:22.202321Z",
     "shell.execute_reply": "2020-08-19T22:29:22.201308Z"
    },
    "papermill": {
     "duration": 0.037708,
     "end_time": "2020-08-19T22:29:22.202487",
     "exception": false,
     "start_time": "2020-08-19T22:29:22.164779",
     "status": "completed"
    },
    "tags": []
   },
   "outputs": [
    {
     "name": "stdout",
     "output_type": "stream",
     "text": [
      "[[10  0  0  0  0  0  0]\n",
      " [ 0  5  0  0  0  0  0]\n",
      " [ 0  0  0  1  0  0  0]\n",
      " [ 0  0  0  5  0  0  0]\n",
      " [ 0  0  0  0  1  0  0]\n",
      " [ 0  0  0  0  0  2  0]\n",
      " [ 0  0  0  0  0  0  2]]\n"
     ]
    }
   ],
   "source": [
    "print(confusion_matrix(y_test,y_pred))"
   ]
  },
  {
   "cell_type": "code",
   "execution_count": 23,
   "metadata": {
    "execution": {
     "iopub.execute_input": "2020-08-19T22:29:22.262881Z",
     "iopub.status.busy": "2020-08-19T22:29:22.260081Z",
     "iopub.status.idle": "2020-08-19T22:29:22.268935Z",
     "shell.execute_reply": "2020-08-19T22:29:22.268181Z"
    },
    "papermill": {
     "duration": 0.043778,
     "end_time": "2020-08-19T22:29:22.269072",
     "exception": false,
     "start_time": "2020-08-19T22:29:22.225294",
     "status": "completed"
    },
    "tags": []
   },
   "outputs": [
    {
     "name": "stdout",
     "output_type": "stream",
     "text": [
      "              precision    recall  f1-score   support\n",
      "\n",
      "           1       1.00      1.00      1.00        10\n",
      "           2       1.00      1.00      1.00         5\n",
      "           3       0.00      0.00      0.00         1\n",
      "           4       0.83      1.00      0.91         5\n",
      "           5       1.00      1.00      1.00         1\n",
      "           6       1.00      1.00      1.00         2\n",
      "           7       1.00      1.00      1.00         2\n",
      "\n",
      "    accuracy                           0.96        26\n",
      "   macro avg       0.83      0.86      0.84        26\n",
      "weighted avg       0.93      0.96      0.94        26\n",
      "\n"
     ]
    }
   ],
   "source": [
    "print(classification_report(y_test,y_pred))"
   ]
  },
  {
   "cell_type": "code",
   "execution_count": 24,
   "metadata": {
    "execution": {
     "iopub.execute_input": "2020-08-19T22:29:22.333048Z",
     "iopub.status.busy": "2020-08-19T22:29:22.324780Z",
     "iopub.status.idle": "2020-08-19T22:29:22.717233Z",
     "shell.execute_reply": "2020-08-19T22:29:22.717875Z"
    },
    "papermill": {
     "duration": 0.426362,
     "end_time": "2020-08-19T22:29:22.718054",
     "exception": false,
     "start_time": "2020-08-19T22:29:22.291692",
     "status": "completed"
    },
    "tags": []
   },
   "outputs": [
    {
     "data": {
      "image/png": "[encoded data removed]",
      "text/plain": [
       "<Figure size 648x648 with 1 Axes>"
      ]
     },
     "metadata": {},
     "output_type": "display_data"
    }
   ],
   "source": [
    "plt.rcParams['figure.figsize'] = (9,9) \n",
    "_, ax = plt.subplots()\n",
    "ax.hist(y_test, color = 'm', alpha = 0.5, label = 'actual', bins=7)\n",
    "ax.hist(y_pred, color = 'c', alpha = 0.5, label = 'prediction', bins=7)\n",
    "ax.yaxis.set_ticks(np.arange(0,11))\n",
    "ax.legend(loc = 'best')\n",
    "plt.show()"
   ]
  },
  {
   "cell_type": "markdown",
   "execution_count": null,
   "metadata": {
    "papermill": {
     "duration": 0.022969,
     "end_time": "2020-08-19T22:29:22.764369",
     "exception": false,
     "start_time": "2020-08-19T22:29:22.741400",
     "status": "completed"
    },
    "tags": []
   },
   "source": [
    "What this figure tells us is the total number of animals in each class according to the test data and predicted data. <br>\n",
    "We can see that the predictions matches almost all the actual animal classifications (indicated by color overlap) except for one case where the model failed to identify an animal as belonging to class 3 (Reptile), and marked it as being in class 4 (Fish).\n",
    "\n",
    "So we can see the level of accuracy for this particular classifier."
   ]
  },
  {
   "cell_type": "markdown",
   "execution_count": null,
   "metadata": {
    "papermill": {
     "duration": 0.023957,
     "end_time": "2020-08-19T22:29:22.811637",
     "exception": false,
     "start_time": "2020-08-19T22:29:22.787680",
     "status": "completed"
    },
    "tags": []
   },
   "source": [
    "Now that we know what the model can do at n=5, we should run the model for multiple values of n to find optimal value of n with respect to this dataset."
   ]
  },
  {
   "cell_type": "code",
   "execution_count": 25,
   "metadata": {
    "execution": {
     "iopub.execute_input": "2020-08-19T22:29:22.878260Z",
     "iopub.status.busy": "2020-08-19T22:29:22.877289Z",
     "iopub.status.idle": "2020-08-19T22:29:24.823130Z",
     "shell.execute_reply": "2020-08-19T22:29:24.822181Z"
    },
    "papermill": {
     "duration": 1.987191,
     "end_time": "2020-08-19T22:29:24.823315",
     "exception": false,
     "start_time": "2020-08-19T22:29:22.836124",
     "status": "completed"
    },
    "tags": []
   },
   "outputs": [
    {
     "name": "stdout",
     "output_type": "stream",
     "text": [
      "Mean Scores:\n",
      "[0.9178571428571429, 0.9178571428571429, 0.8232142857142858, 0.7714285714285714, 0.7589285714285714, 0.7589285714285714, 0.7464285714285713, 0.7464285714285713, 0.7589285714285714, 0.6946428571428571, 0.6535714285714286, 0.5607142857142857, 0.5607142857142857, 0.5732142857142857, 0.5732142857142857, 0.5732142857142857, 0.5607142857142857, 0.5214285714285714, 0.5107142857142857, 0.5232142857142856, 0.48392857142857143, 0.4428571428571429, 0.41428571428571426, 0.41428571428571426, 0.41428571428571426]\n",
      "Error Rate:\n",
      "[0.0, 0.0, 0.038461538461538464, 0.07692307692307693, 0.11538461538461539, 0.19230769230769232, 0.19230769230769232, 0.19230769230769232, 0.19230769230769232, 0.15384615384615385, 0.15384615384615385, 0.23076923076923078, 0.46153846153846156, 0.4230769230769231, 0.4230769230769231, 0.4230769230769231, 0.4230769230769231, 0.4230769230769231, 0.4230769230769231, 0.4230769230769231, 0.46153846153846156, 0.46153846153846156, 0.5, 0.5, 0.6153846153846154]\n"
     ]
    }
   ],
   "source": [
    "# Get score for different values of n\n",
    "k_list = np.arange(1, 50, 2)\n",
    "mean_scores = []\n",
    "accuracy_list = []\n",
    "error_rate = []\n",
    "\n",
    "for i in k_list:\n",
    "    knn = KNeighborsClassifier(n_neighbors=i)\n",
    "    knn.fit(X_train,y_train)\n",
    "    pred_i = knn.predict(X_test)\n",
    "    score = cross_val_score(knn,X_train, y_train,cv=10)\n",
    "    mean_scores.append(np.mean(score))\n",
    "    error_rate.append(np.mean(pred_i != y_test))\n",
    "\n",
    "print(\"Mean Scores:\")\n",
    "print(mean_scores)\n",
    "print(\"Error Rate:\")\n",
    "print(error_rate)"
   ]
  },
  {
   "cell_type": "markdown",
   "execution_count": null,
   "metadata": {
    "papermill": {
     "duration": 0.048513,
     "end_time": "2020-08-19T22:29:24.896871",
     "exception": false,
     "start_time": "2020-08-19T22:29:24.848358",
     "status": "completed"
    },
    "tags": []
   },
   "source": [
    "## Visualization of Model Performance of Different n-Values\n",
    "Create a plot of the average accuracy of the prediction model for different values of k between 1 to 50.\n",
    "\n",
    "This is to help us better see which value of k works best with this model."
   ]
  },
  {
   "cell_type": "code",
   "execution_count": 26,
   "metadata": {
    "execution": {
     "iopub.execute_input": "2020-08-19T22:29:24.966151Z",
     "iopub.status.busy": "2020-08-19T22:29:24.962742Z",
     "iopub.status.idle": "2020-08-19T22:29:25.362308Z",
     "shell.execute_reply": "2020-08-19T22:29:25.361540Z"
    },
    "papermill": {
     "duration": 0.441376,
     "end_time": "2020-08-19T22:29:25.362439",
     "exception": false,
     "start_time": "2020-08-19T22:29:24.921063",
     "status": "completed"
    },
    "tags": []
   },
   "outputs": [
    {
     "data": {
      "image/png": "[encoded data removed]",
      "text/plain": [
       "<Figure size 648x648 with 1 Axes>"
      ]
     },
     "metadata": {},
     "output_type": "display_data"
    }
   ],
   "source": [
    "# Plot n values and average accuracy scores\n",
    "plt.plot(k_list,mean_scores, marker='o')\n",
    "\n",
    "# Added titles and adjust dimensions\n",
    "plt.title('Accuracy of Model for Varying Values of K')\n",
    "plt.xlabel(\"Values of K\")\n",
    "plt.ylabel(\"Mean Accuracy Score\")\n",
    "plt.xticks(k_list)\n",
    "plt.rcParams['figure.figsize'] = (12,12) \n",
    "\n",
    "plt.show()"
   ]
  },
  {
   "cell_type": "code",
   "execution_count": 27,
   "metadata": {
    "execution": {
     "iopub.execute_input": "2020-08-19T22:29:25.424037Z",
     "iopub.status.busy": "2020-08-19T22:29:25.423161Z",
     "iopub.status.idle": "2020-08-19T22:29:25.853973Z",
     "shell.execute_reply": "2020-08-19T22:29:25.854564Z"
    },
    "papermill": {
     "duration": 0.468822,
     "end_time": "2020-08-19T22:29:25.854759",
     "exception": false,
     "start_time": "2020-08-19T22:29:25.385937",
     "status": "completed"
    },
    "tags": []
   },
   "outputs": [
    {
     "data": {
      "image/png": "[encoded data removed]",
      "text/plain": [
       "<Figure size 864x864 with 1 Axes>"
      ]
     },
     "metadata": {},
     "output_type": "display_data"
    }
   ],
   "source": [
    "# Plot n values and average accuracy scores\n",
    "plt.plot(k_list,error_rate, color='r', marker = 'o')\n",
    "\n",
    "# Added titles and adjust dimensions\n",
    "plt.title('Error Rate for Model for Varying Values of K')\n",
    "plt.xlabel(\"Values of K\")\n",
    "plt.ylabel(\"Error Rate\")\n",
    "plt.xticks(k_list)\n",
    "plt.rcParams['figure.figsize'] = (12,12) \n",
    "\n",
    "plt.show()"
   ]
  },
  {
   "cell_type": "markdown",
   "execution_count": null,
   "metadata": {
    "papermill": {
     "duration": 0.024376,
     "end_time": "2020-08-19T22:29:25.904310",
     "exception": false,
     "start_time": "2020-08-19T22:29:25.879934",
     "status": "completed"
    },
    "tags": []
   },
   "source": [
    "## Out of Curiosity..."
   ]
  },
  {
   "cell_type": "markdown",
   "execution_count": null,
   "metadata": {
    "papermill": {
     "duration": 0.023964,
     "end_time": "2020-08-19T22:29:25.952890",
     "exception": false,
     "start_time": "2020-08-19T22:29:25.928926",
     "status": "completed"
    },
    "tags": []
   },
   "source": [
    "So, we've seen how this works when we use all the features values as given. <br>\n",
    "Just for fun, let's see how this changes if we don't use the values for `legs` and use `has_legs` instead as we did when plotting our heatmap.\n",
    "\n",
    "I'll run the exact same code as before changing nothing but using `has_legs` and not `legs`. <br>"
   ]
  },
  {
   "cell_type": "code",
   "execution_count": 28,
   "metadata": {
    "execution": {
     "iopub.execute_input": "2020-08-19T22:29:26.013166Z",
     "iopub.status.busy": "2020-08-19T22:29:26.012260Z",
     "iopub.status.idle": "2020-08-19T22:29:26.015162Z",
     "shell.execute_reply": "2020-08-19T22:29:26.015750Z"
    },
    "papermill": {
     "duration": 0.038355,
     "end_time": "2020-08-19T22:29:26.015952",
     "exception": false,
     "start_time": "2020-08-19T22:29:25.977597",
     "status": "completed"
    },
    "tags": []
   },
   "outputs": [],
   "source": [
    "# Select columns to add to X and y sets\n",
    "features = list(zoo_df.columns.values)\n",
    "features.remove('legs')\n",
    "features.remove('Class_Type')\n",
    "features.remove('Class_Number')\n",
    "features.remove('animal_name')\n",
    "X2 = zoo_df[features]\n",
    "y2 = zoo_df['Class_Type']"
   ]
  },
  {
   "cell_type": "code",
   "execution_count": 29,
   "metadata": {
    "execution": {
     "iopub.execute_input": "2020-08-19T22:29:26.075946Z",
     "iopub.status.busy": "2020-08-19T22:29:26.075138Z",
     "iopub.status.idle": "2020-08-19T22:29:26.078042Z",
     "shell.execute_reply": "2020-08-19T22:29:26.078718Z"
    },
    "papermill": {
     "duration": 0.037439,
     "end_time": "2020-08-19T22:29:26.078938",
     "exception": false,
     "start_time": "2020-08-19T22:29:26.041499",
     "status": "completed"
    },
    "tags": []
   },
   "outputs": [],
   "source": [
    "# Split X and y into train and test\n",
    "X2_train, X2_test, y2_train, y2_test = train_test_split(X2,y2,random_state = 0)"
   ]
  },
  {
   "cell_type": "code",
   "execution_count": 30,
   "metadata": {
    "execution": {
     "iopub.execute_input": "2020-08-19T22:29:26.140326Z",
     "iopub.status.busy": "2020-08-19T22:29:26.139216Z",
     "iopub.status.idle": "2020-08-19T22:29:26.145359Z",
     "shell.execute_reply": "2020-08-19T22:29:26.144657Z"
    },
    "papermill": {
     "duration": 0.041271,
     "end_time": "2020-08-19T22:29:26.145530",
     "exception": false,
     "start_time": "2020-08-19T22:29:26.104259",
     "status": "completed"
    },
    "tags": []
   },
   "outputs": [
    {
     "data": {
      "text/plain": [
       "KNeighborsClassifier()"
      ]
     },
     "execution_count": 30,
     "metadata": {},
     "output_type": "execute_result"
    }
   ],
   "source": [
    "# Fit k-nearest neighbors classifier with training sets for n = 5\n",
    "knn2 = KNeighborsClassifier(n_neighbors = 5)\n",
    "knn2.fit(X2_train, y2_train)"
   ]
  },
  {
   "cell_type": "code",
   "execution_count": 31,
   "metadata": {
    "execution": {
     "iopub.execute_input": "2020-08-19T22:29:26.205027Z",
     "iopub.status.busy": "2020-08-19T22:29:26.203081Z",
     "iopub.status.idle": "2020-08-19T22:29:26.209454Z",
     "shell.execute_reply": "2020-08-19T22:29:26.210078Z"
    },
    "papermill": {
     "duration": 0.040156,
     "end_time": "2020-08-19T22:29:26.210284",
     "exception": false,
     "start_time": "2020-08-19T22:29:26.170128",
     "status": "completed"
    },
    "tags": []
   },
   "outputs": [],
   "source": [
    "# Run prediction\n",
    "y2_pred = knn2.predict(X2_test)"
   ]
  },
  {
   "cell_type": "code",
   "execution_count": 32,
   "metadata": {
    "execution": {
     "iopub.execute_input": "2020-08-19T22:29:26.269743Z",
     "iopub.status.busy": "2020-08-19T22:29:26.268608Z",
     "iopub.status.idle": "2020-08-19T22:29:26.273347Z",
     "shell.execute_reply": "2020-08-19T22:29:26.273968Z"
    },
    "papermill": {
     "duration": 0.038569,
     "end_time": "2020-08-19T22:29:26.274186",
     "exception": false,
     "start_time": "2020-08-19T22:29:26.235617",
     "status": "completed"
    },
    "tags": []
   },
   "outputs": [
    {
     "name": "stdout",
     "output_type": "stream",
     "text": [
      "[[ 1  0  0  0  0  0  0]\n",
      " [ 0  5  0  0  0  0  0]\n",
      " [ 0  0  2  0  0  0  0]\n",
      " [ 0  0  0  5  0  0  0]\n",
      " [ 0  0  0  0  2  0  0]\n",
      " [ 0  0  0  0  0 10  0]\n",
      " [ 0  0  0  0  0  0  1]]\n"
     ]
    }
   ],
   "source": [
    "print(confusion_matrix(y2_test,y2_pred))"
   ]
  },
  {
   "cell_type": "code",
   "execution_count": 33,
   "metadata": {
    "execution": {
     "iopub.execute_input": "2020-08-19T22:29:26.331597Z",
     "iopub.status.busy": "2020-08-19T22:29:26.330570Z",
     "iopub.status.idle": "2020-08-19T22:29:26.340706Z",
     "shell.execute_reply": "2020-08-19T22:29:26.339941Z"
    },
    "papermill": {
     "duration": 0.041001,
     "end_time": "2020-08-19T22:29:26.340847",
     "exception": false,
     "start_time": "2020-08-19T22:29:26.299846",
     "status": "completed"
    },
    "tags": []
   },
   "outputs": [
    {
     "name": "stdout",
     "output_type": "stream",
     "text": [
      "              precision    recall  f1-score   support\n",
      "\n",
      "   Amphibian       1.00      1.00      1.00         1\n",
      "        Bird       1.00      1.00      1.00         5\n",
      "         Bug       1.00      1.00      1.00         2\n",
      "        Fish       1.00      1.00      1.00         5\n",
      "Invertebrate       1.00      1.00      1.00         2\n",
      "      Mammal       1.00      1.00      1.00        10\n",
      "     Reptile       1.00      1.00      1.00         1\n",
      "\n",
      "    accuracy                           1.00        26\n",
      "   macro avg       1.00      1.00      1.00        26\n",
      "weighted avg       1.00      1.00      1.00        26\n",
      "\n"
     ]
    }
   ],
   "source": [
    "print(classification_report(y2_test,y2_pred))"
   ]
  },
  {
   "cell_type": "code",
   "execution_count": 34,
   "metadata": {
    "execution": {
     "iopub.execute_input": "2020-08-19T22:29:26.413398Z",
     "iopub.status.busy": "2020-08-19T22:29:26.409859Z",
     "iopub.status.idle": "2020-08-19T22:29:26.670117Z",
     "shell.execute_reply": "2020-08-19T22:29:26.669242Z"
    },
    "papermill": {
     "duration": 0.304743,
     "end_time": "2020-08-19T22:29:26.670285",
     "exception": false,
     "start_time": "2020-08-19T22:29:26.365542",
     "status": "completed"
    },
    "tags": []
   },
   "outputs": [
    {
     "data": {
      "image/png": "[encoded data removed]",
      "text/plain": [
       "<Figure size 648x648 with 1 Axes>"
      ]
     },
     "metadata": {},
     "output_type": "display_data"
    }
   ],
   "source": [
    "plt.rcParams['figure.figsize'] = (9,9) \n",
    "_, ax = plt.subplots()\n",
    "ax.hist(y2_test, color = 'm', alpha = 0.5, label = 'actual', bins=7)\n",
    "ax.hist(y2_pred, color = 'c', alpha = 0.5, label = 'prediction', bins=7)\n",
    "ax.yaxis.set_ticks(np.arange(0,11))\n",
    "ax.legend(loc = 'best')\n",
    "\n",
    "plt.show()"
   ]
  },
  {
   "cell_type": "code",
   "execution_count": 35,
   "metadata": {
    "_kg_hide-input": false,
    "execution": {
     "iopub.execute_input": "2020-08-19T22:29:26.742453Z",
     "iopub.status.busy": "2020-08-19T22:29:26.733465Z",
     "iopub.status.idle": "2020-08-19T22:29:28.848864Z",
     "shell.execute_reply": "2020-08-19T22:29:28.847682Z"
    },
    "papermill": {
     "duration": 2.15203,
     "end_time": "2020-08-19T22:29:28.849270",
     "exception": false,
     "start_time": "2020-08-19T22:29:26.697240",
     "status": "completed"
    },
    "tags": []
   },
   "outputs": [
    {
     "name": "stdout",
     "output_type": "stream",
     "text": [
      "Mean Scores:\n",
      "[0.9178571428571429, 0.9178571428571429, 0.8232142857142858, 0.7714285714285714, 0.7589285714285714, 0.7589285714285714, 0.7464285714285713, 0.7464285714285713, 0.7589285714285714, 0.6946428571428571, 0.6535714285714286, 0.5607142857142857, 0.5607142857142857, 0.5732142857142857, 0.5732142857142857, 0.5732142857142857, 0.5607142857142857, 0.5214285714285714, 0.5107142857142857, 0.5232142857142856, 0.48392857142857143, 0.4428571428571429, 0.41428571428571426, 0.41428571428571426, 0.41428571428571426]\n",
      "Error Rate:\n",
      "[0.0, 0.0, 0.038461538461538464, 0.07692307692307693, 0.11538461538461539, 0.19230769230769232, 0.19230769230769232, 0.19230769230769232, 0.19230769230769232, 0.15384615384615385, 0.15384615384615385, 0.23076923076923078, 0.46153846153846156, 0.4230769230769231, 0.4230769230769231, 0.4230769230769231, 0.4230769230769231, 0.4230769230769231, 0.4230769230769231, 0.4230769230769231, 0.46153846153846156, 0.46153846153846156, 0.5, 0.5, 0.6153846153846154]\n"
     ]
    }
   ],
   "source": [
    "# Get score for different values of n\n",
    "k_list = np.arange(1, 50, 2)\n",
    "mean_scores2 = []\n",
    "accuracy_list2 = []\n",
    "error_rate2 = []\n",
    "\n",
    "for i in k_list:\n",
    "    knn2 = KNeighborsClassifier(n_neighbors=i)\n",
    "    knn2.fit(X2_train,y2_train)\n",
    "    pred_i = knn2.predict(X2_test)\n",
    "    score = cross_val_score(knn2,X2_train, y2_train,cv=10)\n",
    "    mean_scores2.append(np.mean(score))\n",
    "    error_rate2.append(np.mean(pred_i != y2_test))\n",
    "\n",
    "print(\"Mean Scores:\")\n",
    "print(mean_scores)\n",
    "print(\"Error Rate:\")\n",
    "print(error_rate)"
   ]
  },
  {
   "cell_type": "markdown",
   "execution_count": null,
   "metadata": {
    "papermill": {
     "duration": 0.025084,
     "end_time": "2020-08-19T22:29:28.900961",
     "exception": false,
     "start_time": "2020-08-19T22:29:28.875877",
     "status": "completed"
    },
    "tags": []
   },
   "source": [
    "Here I'll plot the original and new curves together so we can see and compare any differences."
   ]
  },
  {
   "cell_type": "code",
   "execution_count": 36,
   "metadata": {
    "execution": {
     "iopub.execute_input": "2020-08-19T22:29:28.968113Z",
     "iopub.status.busy": "2020-08-19T22:29:28.962428Z",
     "iopub.status.idle": "2020-08-19T22:29:29.578495Z",
     "shell.execute_reply": "2020-08-19T22:29:29.577759Z"
    },
    "papermill": {
     "duration": 0.65228,
     "end_time": "2020-08-19T22:29:29.578667",
     "exception": false,
     "start_time": "2020-08-19T22:29:28.926387",
     "status": "completed"
    },
    "tags": []
   },
   "outputs": [
    {
     "data": {
      "image/png": "[encoded data removed]",
      "text/plain": [
       "<Figure size 648x648 with 1 Axes>"
      ]
     },
     "metadata": {},
     "output_type": "display_data"
    }
   ],
   "source": [
    "# Plot n values and average accuracy scores\n",
    "plt.plot(k_list,mean_scores, color='b',marker='o', label='Model using Number of Legs')\n",
    "plt.plot(k_list,mean_scores2, color='m',marker='x', label='Model using Presence of Legs')\n",
    "\n",
    "# Added titles and adjust dimensions\n",
    "plt.title('Accuracy of Model for Varying Values of K')\n",
    "plt.xlabel(\"Values of K\")\n",
    "plt.ylabel(\"Mean Accuracy Score\")\n",
    "plt.xticks(k_list)\n",
    "plt.legend()\n",
    "plt.rcParams['figure.figsize'] = (12,12) \n",
    "\n",
    "plt.show()"
   ]
  },
  {
   "cell_type": "code",
   "execution_count": 37,
   "metadata": {
    "execution": {
     "iopub.execute_input": "2020-08-19T22:29:29.647116Z",
     "iopub.status.busy": "2020-08-19T22:29:29.642307Z",
     "iopub.status.idle": "2020-08-19T22:29:30.107742Z",
     "shell.execute_reply": "2020-08-19T22:29:30.106924Z"
    },
    "papermill": {
     "duration": 0.502251,
     "end_time": "2020-08-19T22:29:30.107890",
     "exception": false,
     "start_time": "2020-08-19T22:29:29.605639",
     "status": "completed"
    },
    "tags": []
   },
   "outputs": [
    {
     "data": {
      "image/png": "[encoded data removed]",
      "text/plain": [
       "<Figure size 864x864 with 1 Axes>"
      ]
     },
     "metadata": {},
     "output_type": "display_data"
    }
   ],
   "source": [
    "# Plot n values and average accuracy scores\n",
    "plt.plot(k_list,error_rate, color='r', marker = 'o', label='Model using Number of Legs')\n",
    "plt.plot(k_list,error_rate2, color='c', marker = 'x', label='Model using Presence of Legs')\n",
    "\n",
    "# Added titles and adjust dimensions\n",
    "plt.title('Error Rate for Model for Varying Values of K')\n",
    "plt.xlabel(\"Values of K\")\n",
    "plt.ylabel(\"Error Rate\")\n",
    "plt.xticks(k_list)\n",
    "plt.legend()\n",
    "plt.rcParams['figure.figsize'] = (12,12) \n",
    "\n",
    "plt.show()"
   ]
  },
  {
   "cell_type": "markdown",
   "execution_count": null,
   "metadata": {
    "papermill": {
     "duration": 0.042414,
     "end_time": "2020-08-19T22:29:30.177725",
     "exception": false,
     "start_time": "2020-08-19T22:29:30.135311",
     "status": "completed"
    },
    "tags": []
   },
   "source": [
    "### Inference\n",
    "\n",
    "So interestingly, <br>\n",
    "Replacing the feature `legs` with `has_legs` improved the accuracy of KNN models at every value where n >3 <br>\n",
    "This may be due to the model taking the number of legs as a continuous, numeric data point rather than as an enumerate. <br>"
   ]
  }
 ],
 "metadata": {
  "kernelspec": {
   "display_name": "Python 3",
   "language": "python",
   "name": "python3"
  },
  "language_info": {
   "codemirror_mode": {
    "name": "ipython",
    "version": 3
   },
   "file_extension": ".py",
   "mimetype": "text/x-python",
   "name": "python",
   "nbconvert_exporter": "python",
   "pygments_lexer": "ipython3",
   "version": "3.7.6"
  },
  "papermill": {
   "duration": 21.603418,
   "end_time": "2020-08-19T22:29:30.315886",
   "environment_variables": {},
   "exception": null,
   "input_path": "__notebook__.ipynb",
   "output_path": "__notebook__.ipynb",
   "parameters": {},
   "start_time": "2020-08-19T22:29:08.712468",
   "version": "2.1.0"
  }
 },
 "nbformat": 4,
 "nbformat_minor": 4
}
